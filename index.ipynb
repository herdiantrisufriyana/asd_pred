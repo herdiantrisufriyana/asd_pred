{
 "cells": [
  {
   "cell_type": "markdown",
   "id": "226448c5-497f-432e-a7f9-fe3fa2a5cb98",
   "metadata": {},
   "source": [
    "# Programming environment"
   ]
  },
  {
   "cell_type": "code",
   "execution_count": 1,
   "id": "c64b8b7e-6102-44c1-a95e-0a50b09a6124",
   "metadata": {},
   "outputs": [],
   "source": [
    "# Define the seed for reproducibility\n",
    "seed = 2025-3-13"
   ]
  },
  {
   "cell_type": "code",
   "execution_count": 2,
   "id": "ae8b8b50-af8f-4620-9bc1-9f3d2ae3b5ab",
   "metadata": {},
   "outputs": [],
   "source": [
    "# Load existing functions from libraries\n",
    "from sklearn.metrics import mean_squared_error, make_scorer, precision_score"
   ]
  },
  {
   "cell_type": "code",
   "execution_count": 3,
   "id": "dacd29ba-9f9c-4444-9349-378426e0a283",
   "metadata": {},
   "outputs": [
    {
     "name": "stderr",
     "output_type": "stream",
     "text": [
      "IProgress not found. Please update jupyter and ipywidgets. See https://ipywidgets.readthedocs.io/en/stable/user_install.html\n"
     ]
    }
   ],
   "source": [
    "# Load custom functions from utils.py\n",
    "from utils import train_and_estimate_sample_size, train_and_save_model, load_and_predict, compute_shap_values"
   ]
  },
  {
   "cell_type": "code",
   "execution_count": 4,
   "id": "c8db6992-8c0f-45f5-8a7b-50819c2807ef",
   "metadata": {},
   "outputs": [],
   "source": [
    "from sklearn.linear_model import LogisticRegression\n",
    "from sklearn.svm import SVC\n",
    "from sklearn.naive_bayes import GaussianNB\n",
    "from sklearn.neighbors import KNeighborsClassifier\n",
    "from sklearn.tree import DecisionTreeClassifier\n",
    "from sklearn.ensemble import RandomForestClassifier, GradientBoostingClassifier\n",
    "from sklearn.neural_network import MLPClassifier\n",
    "import numpy as np\n",
    "\n",
    "models_and_params = {\n",
    "    'LogisticRegression': {\n",
    "        'model': LogisticRegression(penalty='l2', solver='lbfgs', max_iter=1000),\n",
    "        'param_grid': {\n",
    "            'C': np.logspace(-4, 4, 10)  # Regularization strength\n",
    "        }\n",
    "    },\n",
    "    'NaiveBayes': {\n",
    "        'model': GaussianNB(),  # Gaussian Naive Bayes\n",
    "        'param_grid': {}  # Naive Bayes typically doesn't require hyperparameter tuning\n",
    "    },\n",
    "    'SVM': {\n",
    "        'model': SVC(kernel='linear', probability=True),  # Enable probability estimates\n",
    "        'param_grid': {\n",
    "            'C': np.logspace(-4, 4, 10)  # Penalty parameter C of the error term\n",
    "        }\n",
    "    },\n",
    "    'KNN': {\n",
    "        'model': KNeighborsClassifier(),\n",
    "        'param_grid': {\n",
    "            'n_neighbors': [3, 5, 7, 9],  # Number of neighbors\n",
    "            'weights': ['uniform', 'distance'],  # Weight function used in prediction\n",
    "            'metric': ['euclidean', 'manhattan']  # Distance metric for tree construction\n",
    "        }\n",
    "    },\n",
    "    'DecisionTree': {\n",
    "        'model': DecisionTreeClassifier(min_samples_split=20),\n",
    "        'param_grid': {\n",
    "            'max_depth': [3, 5, 10]  # Maximum depth of trees\n",
    "        }\n",
    "    },\n",
    "    'RandomForest': {\n",
    "        'model': RandomForestClassifier(min_samples_split=20, max_features=None),\n",
    "        'param_grid': {\n",
    "            'n_estimators': [100, 200, 300],  # Number of trees\n",
    "            'max_depth': [3, 5, 10]  # Maximum depth of trees\n",
    "        }\n",
    "    },\n",
    "    'GradientBoosting': {\n",
    "        'model': GradientBoostingClassifier(learning_rate=0.01),\n",
    "        'param_grid': {\n",
    "            'n_estimators': [100, 200, 300],  # Number of boosting stages\n",
    "            'max_depth': [3, 5, 10]  # Max depth of regression estimators\n",
    "        }\n",
    "    },\n",
    "    'DeepNeuralNetwork': {\n",
    "        'model': MLPClassifier(max_iter=5000, hidden_layer_sizes=(10, 10), activation='relu', solver='sgd', learning_rate_init=0.0001),\n",
    "        'param_grid': {\n",
    "            'alpha': np.logspace(-4, 4, 10)  # L2 penalty (regularization term)\n",
    "        }\n",
    "    }\n",
    "}"
   ]
  },
  {
   "cell_type": "code",
   "execution_count": 5,
   "id": "15708dd7-5f91-4274-bc77-e2d0c4abb221",
   "metadata": {},
   "outputs": [],
   "source": [
    "import shap\n",
    "\n",
    "# Corresponding explainers\n",
    "explainers = {\n",
    "    'LogisticRegression': shap.LinearExplainer,\n",
    "    'NaiveBayes': shap.KernelExplainer,\n",
    "    'SVM': shap.KernelExplainer,\n",
    "    'KNN': shap.KernelExplainer,\n",
    "    'DecisionTree': shap.TreeExplainer,\n",
    "    'RandomForest': shap.TreeExplainer,\n",
    "    'GradientBoosting': shap.TreeExplainer,\n",
    "    'DeepNeuralNetwork': shap.KernelExplainer\n",
    "}"
   ]
  },
  {
   "cell_type": "markdown",
   "id": "5f1d5186-dcd1-48ea-b29c-d0fe3b013b40",
   "metadata": {},
   "source": [
    "# Predictive modeling"
   ]
  },
  {
   "cell_type": "markdown",
   "id": "f33aae1a-4acc-41df-85ce-ce46c637a02a",
   "metadata": {},
   "source": [
    "## Neonatal risk"
   ]
  },
  {
   "cell_type": "markdown",
   "id": "7f4f20cb-aad3-4b45-80c2-7949ba850769",
   "metadata": {},
   "source": [
    "### Ridge Regression"
   ]
  },
  {
   "cell_type": "code",
   "execution_count": 6,
   "id": "dbcddc98-6e9d-4aca-bd20-4647a2c1713f",
   "metadata": {},
   "outputs": [
    {
     "name": "stdout",
     "output_type": "stream",
     "text": [
      "Results saved at inst/extdata/model/neonatal_risk/rr/sample_size_estimation.csv\n",
      "Scaler saved at inst/extdata/model/neonatal_risk/rr/scaler.joblib\n",
      "Model saved at inst/extdata/model/neonatal_risk/rr/model.joblib\n",
      "Results saved at inst/extdata/model/neonatal_risk/rr/train_prob.csv\n",
      "Results saved at inst/extdata/model/neonatal_risk/rr/validation_prob.csv\n",
      "Results saved at inst/extdata/model/neonatal_risk/rr/test_prob.csv\n",
      "Results saved at inst/extdata/model/neonatal_risk/rr/shap_values.csv\n"
     ]
    }
   ],
   "source": [
    "prefix = 'predmod_data/asd_neonatal_risk'\n",
    "model_name = 'LogisticRegression'\n",
    "model_dir = 'model/neonatal_risk/rr'\n",
    "\n",
    "train_and_estimate_sample_size(f'{prefix}_train', models_and_params[model_name], model_dir, seed = seed)\n",
    "custom_precision = make_scorer(precision_score, zero_division=0)\n",
    "train_and_save_model(f'{prefix}_train', models_and_params[model_name], model_dir, scoring=custom_precision, seed = seed)\n",
    "\n",
    "output_type = 'probability'\n",
    "load_and_predict(prefix, 'train', output_type, model_dir)\n",
    "load_and_predict(prefix, 'validation', output_type, model_dir)\n",
    "load_and_predict(prefix, 'test', output_type, model_dir)\n",
    "compute_shap_values(f'{prefix}_train', explainers[model_name], model_dir)"
   ]
  },
  {
   "cell_type": "markdown",
   "id": "64f34d50-5409-465f-b53e-2b199b974184",
   "metadata": {},
   "source": [
    "### Naive Bayes"
   ]
  },
  {
   "cell_type": "code",
   "execution_count": 7,
   "id": "089f0ef5-6d15-4987-95fd-4aceb38e261f",
   "metadata": {},
   "outputs": [
    {
     "name": "stderr",
     "output_type": "stream",
     "text": [
      "Using 301 background data samples could cause slower run times. Consider using shap.sample(data, K) or shap.kmeans(data, K) to summarize the background as K samples.\n"
     ]
    },
    {
     "name": "stdout",
     "output_type": "stream",
     "text": [
      "Results saved at inst/extdata/model/neonatal_risk/nb/sample_size_estimation.csv\n",
      "Scaler saved at inst/extdata/model/neonatal_risk/nb/scaler.joblib\n",
      "Model saved at inst/extdata/model/neonatal_risk/nb/model.joblib\n",
      "Results saved at inst/extdata/model/neonatal_risk/nb/train_prob.csv\n",
      "Results saved at inst/extdata/model/neonatal_risk/nb/validation_prob.csv\n",
      "Results saved at inst/extdata/model/neonatal_risk/nb/test_prob.csv\n"
     ]
    },
    {
     "name": "stderr",
     "output_type": "stream",
     "text": [
      "100%|█████████████████████████| 301/301 [00:08<00:00, 33.77it/s]"
     ]
    },
    {
     "name": "stdout",
     "output_type": "stream",
     "text": [
      "Results saved at inst/extdata/model/neonatal_risk/nb/shap_values.csv\n"
     ]
    },
    {
     "name": "stderr",
     "output_type": "stream",
     "text": [
      "\n"
     ]
    }
   ],
   "source": [
    "prefix = 'predmod_data/asd_neonatal_risk'\n",
    "model_name = 'NaiveBayes'\n",
    "model_dir = 'model/neonatal_risk/nb'\n",
    "\n",
    "train_and_estimate_sample_size(f'{prefix}_train', models_and_params[model_name], model_dir, seed = seed)\n",
    "custom_precision = make_scorer(precision_score, zero_division=0)\n",
    "train_and_save_model(f'{prefix}_train', models_and_params[model_name], model_dir, scoring=custom_precision, seed = seed)\n",
    "\n",
    "output_type = 'probability'\n",
    "load_and_predict(prefix, 'train', output_type, model_dir)\n",
    "load_and_predict(prefix, 'validation', output_type, model_dir)\n",
    "load_and_predict(prefix, 'test', output_type, model_dir)\n",
    "compute_shap_values(f'{prefix}_train', explainers[model_name], model_dir)"
   ]
  },
  {
   "cell_type": "markdown",
   "id": "9816e4cf-8861-4831-bcf0-dda421e91464",
   "metadata": {},
   "source": [
    "### Support Vector Machine"
   ]
  },
  {
   "cell_type": "code",
   "execution_count": 8,
   "id": "d68ee9b8-ee7e-4ce0-a8ad-4b21ae29edf6",
   "metadata": {},
   "outputs": [
    {
     "name": "stdout",
     "output_type": "stream",
     "text": [
      "Results saved at inst/extdata/model/neonatal_risk/svm/sample_size_estimation.csv\n",
      "Scaler saved at inst/extdata/model/neonatal_risk/svm/scaler.joblib\n"
     ]
    },
    {
     "name": "stderr",
     "output_type": "stream",
     "text": [
      "Using 301 background data samples could cause slower run times. Consider using shap.sample(data, K) or shap.kmeans(data, K) to summarize the background as K samples.\n"
     ]
    },
    {
     "name": "stdout",
     "output_type": "stream",
     "text": [
      "Model saved at inst/extdata/model/neonatal_risk/svm/model.joblib\n",
      "Results saved at inst/extdata/model/neonatal_risk/svm/train_prob.csv\n",
      "Results saved at inst/extdata/model/neonatal_risk/svm/validation_prob.csv\n",
      "Results saved at inst/extdata/model/neonatal_risk/svm/test_prob.csv\n"
     ]
    },
    {
     "name": "stderr",
     "output_type": "stream",
     "text": [
      "100%|█████████████████████████| 301/301 [00:09<00:00, 32.32it/s]"
     ]
    },
    {
     "name": "stdout",
     "output_type": "stream",
     "text": [
      "Results saved at inst/extdata/model/neonatal_risk/svm/shap_values.csv\n"
     ]
    },
    {
     "name": "stderr",
     "output_type": "stream",
     "text": [
      "\n"
     ]
    }
   ],
   "source": [
    "prefix = 'predmod_data/asd_neonatal_risk'\n",
    "model_name = 'SVM'\n",
    "model_dir = 'model/neonatal_risk/svm'\n",
    "\n",
    "train_and_estimate_sample_size(f'{prefix}_train', models_and_params[model_name], model_dir, seed = seed)\n",
    "custom_precision = make_scorer(precision_score, zero_division=0)\n",
    "train_and_save_model(f'{prefix}_train', models_and_params[model_name], model_dir, scoring=custom_precision, seed = seed)\n",
    "\n",
    "output_type = 'probability'\n",
    "load_and_predict(prefix, 'train', output_type, model_dir)\n",
    "load_and_predict(prefix, 'validation', output_type, model_dir)\n",
    "load_and_predict(prefix, 'test', output_type, model_dir)\n",
    "compute_shap_values(f'{prefix}_train', explainers[model_name], model_dir)"
   ]
  },
  {
   "cell_type": "markdown",
   "id": "3fcbdcea-fb17-496c-9b4b-0e20a934e5ce",
   "metadata": {},
   "source": [
    "### k-Nearest Neighbor"
   ]
  },
  {
   "cell_type": "code",
   "execution_count": 9,
   "id": "68284a6f-fcf0-4ae2-bb73-42a5014e5224",
   "metadata": {},
   "outputs": [
    {
     "name": "stderr",
     "output_type": "stream",
     "text": [
      "Using 301 background data samples could cause slower run times. Consider using shap.sample(data, K) or shap.kmeans(data, K) to summarize the background as K samples.\n"
     ]
    },
    {
     "name": "stdout",
     "output_type": "stream",
     "text": [
      "Results saved at inst/extdata/model/neonatal_risk/knn/sample_size_estimation.csv\n",
      "Scaler saved at inst/extdata/model/neonatal_risk/knn/scaler.joblib\n",
      "Model saved at inst/extdata/model/neonatal_risk/knn/model.joblib\n",
      "Results saved at inst/extdata/model/neonatal_risk/knn/train_prob.csv\n",
      "Results saved at inst/extdata/model/neonatal_risk/knn/validation_prob.csv\n",
      "Results saved at inst/extdata/model/neonatal_risk/knn/test_prob.csv\n"
     ]
    },
    {
     "name": "stderr",
     "output_type": "stream",
     "text": [
      "100%|█████████████████████████| 301/301 [00:36<00:00,  8.18it/s]"
     ]
    },
    {
     "name": "stdout",
     "output_type": "stream",
     "text": [
      "Results saved at inst/extdata/model/neonatal_risk/knn/shap_values.csv\n"
     ]
    },
    {
     "name": "stderr",
     "output_type": "stream",
     "text": [
      "\n"
     ]
    }
   ],
   "source": [
    "prefix = 'predmod_data/asd_neonatal_risk'\n",
    "model_name = 'KNN'\n",
    "model_dir = 'model/neonatal_risk/knn'\n",
    "\n",
    "train_and_estimate_sample_size(f'{prefix}_train', models_and_params[model_name], model_dir, seed = seed)\n",
    "custom_precision = make_scorer(precision_score, zero_division=0)\n",
    "train_and_save_model(f'{prefix}_train', models_and_params[model_name], model_dir, scoring=custom_precision, seed = seed)\n",
    "\n",
    "output_type = 'probability'\n",
    "load_and_predict(prefix, 'train', output_type, model_dir)\n",
    "load_and_predict(prefix, 'validation', output_type, model_dir)\n",
    "load_and_predict(prefix, 'test', output_type, model_dir)\n",
    "compute_shap_values(f'{prefix}_train', explainers[model_name], model_dir)"
   ]
  },
  {
   "cell_type": "markdown",
   "id": "c7046b31-4fb0-44d8-9fa1-6d5c18d7ced4",
   "metadata": {},
   "source": [
    "### Decision Tree"
   ]
  },
  {
   "cell_type": "code",
   "execution_count": 10,
   "id": "44dc9ab4-67c1-4c41-b19d-d15ead553b94",
   "metadata": {},
   "outputs": [
    {
     "name": "stdout",
     "output_type": "stream",
     "text": [
      "Results saved at inst/extdata/model/neonatal_risk/dt/sample_size_estimation.csv\n",
      "Scaler saved at inst/extdata/model/neonatal_risk/dt/scaler.joblib\n",
      "Model saved at inst/extdata/model/neonatal_risk/dt/model.joblib\n",
      "Results saved at inst/extdata/model/neonatal_risk/dt/train_prob.csv\n",
      "Results saved at inst/extdata/model/neonatal_risk/dt/validation_prob.csv\n",
      "Results saved at inst/extdata/model/neonatal_risk/dt/test_prob.csv\n",
      "Results saved at inst/extdata/model/neonatal_risk/dt/shap_values.csv\n"
     ]
    }
   ],
   "source": [
    "prefix = 'predmod_data/asd_neonatal_risk'\n",
    "model_name = 'DecisionTree'\n",
    "model_dir = 'model/neonatal_risk/dt'\n",
    "\n",
    "train_and_estimate_sample_size(f'{prefix}_train', models_and_params[model_name], model_dir, seed = seed)\n",
    "custom_precision = make_scorer(precision_score, zero_division=0)\n",
    "train_and_save_model(f'{prefix}_train', models_and_params[model_name], model_dir, scoring=custom_precision, seed = seed)\n",
    "\n",
    "output_type = 'probability'\n",
    "load_and_predict(prefix, 'train', output_type, model_dir)\n",
    "load_and_predict(prefix, 'validation', output_type, model_dir)\n",
    "load_and_predict(prefix, 'test', output_type, model_dir)\n",
    "compute_shap_values(f'{prefix}_train', explainers[model_name], model_dir)"
   ]
  },
  {
   "cell_type": "markdown",
   "id": "13c06bec-539f-4cdb-8f46-8240fe633eaf",
   "metadata": {},
   "source": [
    "### Random Forest"
   ]
  },
  {
   "cell_type": "code",
   "execution_count": 11,
   "id": "b61e4ef6-f4df-4a45-a259-38c6c2025107",
   "metadata": {},
   "outputs": [
    {
     "name": "stdout",
     "output_type": "stream",
     "text": [
      "Results saved at inst/extdata/model/neonatal_risk/rf/sample_size_estimation.csv\n",
      "Scaler saved at inst/extdata/model/neonatal_risk/rf/scaler.joblib\n",
      "Model saved at inst/extdata/model/neonatal_risk/rf/model.joblib\n",
      "Results saved at inst/extdata/model/neonatal_risk/rf/train_prob.csv\n",
      "Results saved at inst/extdata/model/neonatal_risk/rf/validation_prob.csv\n",
      "Results saved at inst/extdata/model/neonatal_risk/rf/test_prob.csv\n",
      "Results saved at inst/extdata/model/neonatal_risk/rf/shap_values.csv\n"
     ]
    }
   ],
   "source": [
    "prefix = 'predmod_data/asd_neonatal_risk'\n",
    "model_name = 'RandomForest'\n",
    "model_dir = 'model/neonatal_risk/rf'\n",
    "\n",
    "train_and_estimate_sample_size(f'{prefix}_train', models_and_params[model_name], model_dir, seed = seed)\n",
    "custom_precision = make_scorer(precision_score, zero_division=0)\n",
    "train_and_save_model(f'{prefix}_train', models_and_params[model_name], model_dir, scoring=custom_precision, seed = seed)\n",
    "\n",
    "output_type = 'probability'\n",
    "load_and_predict(prefix, 'train', output_type, model_dir)\n",
    "load_and_predict(prefix, 'validation', output_type, model_dir)\n",
    "load_and_predict(prefix, 'test', output_type, model_dir)\n",
    "compute_shap_values(f'{prefix}_train', explainers[model_name], model_dir)"
   ]
  },
  {
   "cell_type": "markdown",
   "id": "1a90dfa7-707f-42a2-8e8f-6a8931223bd0",
   "metadata": {},
   "source": [
    "### Gradient Boosting Machine"
   ]
  },
  {
   "cell_type": "code",
   "execution_count": 12,
   "id": "b6e997ca-967c-4119-a6f8-d9af09fa55f8",
   "metadata": {},
   "outputs": [
    {
     "name": "stdout",
     "output_type": "stream",
     "text": [
      "Results saved at inst/extdata/model/neonatal_risk/gbm/sample_size_estimation.csv\n",
      "Scaler saved at inst/extdata/model/neonatal_risk/gbm/scaler.joblib\n",
      "Model saved at inst/extdata/model/neonatal_risk/gbm/model.joblib\n",
      "Results saved at inst/extdata/model/neonatal_risk/gbm/train_prob.csv\n",
      "Results saved at inst/extdata/model/neonatal_risk/gbm/validation_prob.csv\n",
      "Results saved at inst/extdata/model/neonatal_risk/gbm/test_prob.csv\n",
      "Results saved at inst/extdata/model/neonatal_risk/gbm/shap_values.csv\n"
     ]
    }
   ],
   "source": [
    "prefix = 'predmod_data/asd_neonatal_risk'\n",
    "model_name = 'GradientBoosting'\n",
    "model_dir = 'model/neonatal_risk/gbm'\n",
    "\n",
    "train_and_estimate_sample_size(f'{prefix}_train', models_and_params[model_name], model_dir, seed = seed)\n",
    "custom_precision = make_scorer(precision_score, zero_division=0)\n",
    "train_and_save_model(f'{prefix}_train', models_and_params[model_name], model_dir, scoring=custom_precision, seed = seed)\n",
    "\n",
    "output_type = 'probability'\n",
    "load_and_predict(prefix, 'train', output_type, model_dir)\n",
    "load_and_predict(prefix, 'validation', output_type, model_dir)\n",
    "load_and_predict(prefix, 'test', output_type, model_dir)\n",
    "compute_shap_values(f'{prefix}_train', explainers[model_name], model_dir)"
   ]
  },
  {
   "cell_type": "markdown",
   "id": "3289b776-2072-45a8-b2bd-81024abf39b6",
   "metadata": {},
   "source": [
    "### Deep Neural Network"
   ]
  },
  {
   "cell_type": "code",
   "execution_count": 13,
   "id": "00cd17d1-669c-4645-9640-e2892c86adb3",
   "metadata": {
    "scrolled": true
   },
   "outputs": [
    {
     "name": "stdout",
     "output_type": "stream",
     "text": [
      "Results saved at inst/extdata/model/neonatal_risk/dnn/sample_size_estimation.csv\n",
      "Scaler saved at inst/extdata/model/neonatal_risk/dnn/scaler.joblib\n"
     ]
    },
    {
     "name": "stderr",
     "output_type": "stream",
     "text": [
      "Using 301 background data samples could cause slower run times. Consider using shap.sample(data, K) or shap.kmeans(data, K) to summarize the background as K samples.\n"
     ]
    },
    {
     "name": "stdout",
     "output_type": "stream",
     "text": [
      "Model saved at inst/extdata/model/neonatal_risk/dnn/model.joblib\n",
      "Results saved at inst/extdata/model/neonatal_risk/dnn/train_prob.csv\n",
      "Results saved at inst/extdata/model/neonatal_risk/dnn/validation_prob.csv\n",
      "Results saved at inst/extdata/model/neonatal_risk/dnn/test_prob.csv\n"
     ]
    },
    {
     "name": "stderr",
     "output_type": "stream",
     "text": [
      "100%|█████████████████████████| 301/301 [00:14<00:00, 21.18it/s]\n"
     ]
    },
    {
     "name": "stdout",
     "output_type": "stream",
     "text": [
      "Results saved at inst/extdata/model/neonatal_risk/dnn/shap_values.csv\n"
     ]
    }
   ],
   "source": [
    "prefix = 'predmod_data/asd_neonatal_risk'\n",
    "model_name = 'DeepNeuralNetwork'\n",
    "model_dir = 'model/neonatal_risk/dnn'\n",
    "\n",
    "train_and_estimate_sample_size(f'{prefix}_train', models_and_params[model_name], model_dir, seed = seed)\n",
    "custom_precision = make_scorer(precision_score, zero_division=0)\n",
    "train_and_save_model(f'{prefix}_train', models_and_params[model_name], model_dir, scoring=custom_precision, seed = seed)\n",
    "\n",
    "output_type = 'probability'\n",
    "load_and_predict(prefix, 'train', output_type, model_dir)\n",
    "load_and_predict(prefix, 'validation', output_type, model_dir)\n",
    "load_and_predict(prefix, 'test', output_type, model_dir)\n",
    "compute_shap_values(f'{prefix}_train', explainers[model_name], model_dir)"
   ]
  },
  {
   "cell_type": "markdown",
   "id": "1df90a69-1b92-46cb-8247-276efeaec3c7",
   "metadata": {},
   "source": [
    "## BSID-III"
   ]
  },
  {
   "cell_type": "markdown",
   "id": "c4901eea-4e72-4ed1-a063-e2b56b833ae5",
   "metadata": {},
   "source": [
    "### Ridge Regression"
   ]
  },
  {
   "cell_type": "code",
   "execution_count": 6,
   "id": "7f4d8a78-6980-40a1-8b51-7b76406693b3",
   "metadata": {
    "scrolled": true
   },
   "outputs": [
    {
     "name": "stdout",
     "output_type": "stream",
     "text": [
      "Results saved at inst/extdata/model/only_bsid_iii/rr/sample_size_estimation.csv\n",
      "Scaler saved at inst/extdata/model/only_bsid_iii/rr/scaler.joblib\n",
      "Model saved at inst/extdata/model/only_bsid_iii/rr/model.joblib\n",
      "Results saved at inst/extdata/model/only_bsid_iii/rr/train_prob.csv\n",
      "Results saved at inst/extdata/model/only_bsid_iii/rr/validation_prob.csv\n",
      "Results saved at inst/extdata/model/only_bsid_iii/rr/test_prob.csv\n",
      "Results saved at inst/extdata/model/only_bsid_iii/rr/shap_values.csv\n"
     ]
    }
   ],
   "source": [
    "prefix = 'predmod_data/asd_bsid_iii'\n",
    "model_name = 'LogisticRegression'\n",
    "model_dir = 'model/only_bsid_iii/rr'\n",
    "\n",
    "train_and_estimate_sample_size(f'{prefix}_train', models_and_params[model_name], model_dir, seed = seed)\n",
    "custom_precision = make_scorer(precision_score, zero_division=0)\n",
    "train_and_save_model(f'{prefix}_train', models_and_params[model_name], model_dir, scoring=custom_precision, seed = seed)\n",
    "\n",
    "output_type = 'probability'\n",
    "load_and_predict(prefix, 'train', output_type, model_dir)\n",
    "load_and_predict(prefix, 'validation', output_type, model_dir)\n",
    "load_and_predict(prefix, 'test', output_type, model_dir)\n",
    "compute_shap_values(f'{prefix}_train', explainers[model_name], model_dir)"
   ]
  },
  {
   "cell_type": "markdown",
   "id": "8433139d-0298-4e42-9f32-afdd9eeda622",
   "metadata": {},
   "source": [
    "### Naive Bayes"
   ]
  },
  {
   "cell_type": "code",
   "execution_count": 7,
   "id": "c3a9a539-7a31-41a0-86d7-7b9f7e3057c9",
   "metadata": {},
   "outputs": [
    {
     "name": "stdout",
     "output_type": "stream",
     "text": [
      "Results saved at inst/extdata/model/bsid_iii/nb/sample_size_estimation.csv\n",
      "Scaler saved at inst/extdata/model/bsid_iii/nb/scaler.joblib\n",
      "Model saved at inst/extdata/model/bsid_iii/nb/model.joblib\n"
     ]
    },
    {
     "name": "stderr",
     "output_type": "stream",
     "text": [
      "Using 301 background data samples could cause slower run times. Consider using shap.sample(data, K) or shap.kmeans(data, K) to summarize the background as K samples.\n"
     ]
    },
    {
     "name": "stdout",
     "output_type": "stream",
     "text": [
      "Results saved at inst/extdata/model/bsid_iii/nb/train_prob.csv\n",
      "Results saved at inst/extdata/model/bsid_iii/nb/validation_prob.csv\n",
      "Results saved at inst/extdata/model/bsid_iii/nb/test_prob.csv\n"
     ]
    },
    {
     "name": "stderr",
     "output_type": "stream",
     "text": [
      "100%|█████████████████████████| 301/301 [02:08<00:00,  2.34it/s]"
     ]
    },
    {
     "name": "stdout",
     "output_type": "stream",
     "text": [
      "Results saved at inst/extdata/model/bsid_iii/nb/shap_values.csv\n"
     ]
    },
    {
     "name": "stderr",
     "output_type": "stream",
     "text": [
      "\n"
     ]
    }
   ],
   "source": [
    "prefix = 'predmod_data/asd_bsid_iii'\n",
    "model_name = 'NaiveBayes'\n",
    "model_dir = 'model/bsid_iii/nb'\n",
    "\n",
    "train_and_estimate_sample_size(f'{prefix}_train', models_and_params[model_name], model_dir, seed = seed)\n",
    "custom_precision = make_scorer(precision_score, zero_division=0)\n",
    "train_and_save_model(f'{prefix}_train', models_and_params[model_name], model_dir, scoring=custom_precision, seed = seed)\n",
    "\n",
    "output_type = 'probability'\n",
    "load_and_predict(prefix, 'train', output_type, model_dir)\n",
    "load_and_predict(prefix, 'validation', output_type, model_dir)\n",
    "load_and_predict(prefix, 'test', output_type, model_dir)\n",
    "compute_shap_values(f'{prefix}_train', explainers[model_name], model_dir)"
   ]
  },
  {
   "cell_type": "markdown",
   "id": "4bf90cf2-7ca6-46c6-a4da-6debe89a7ef3",
   "metadata": {},
   "source": [
    "### Support Vector Machine"
   ]
  },
  {
   "cell_type": "code",
   "execution_count": 8,
   "id": "652482c1-7666-4865-aaea-0fb9d987d860",
   "metadata": {},
   "outputs": [
    {
     "name": "stdout",
     "output_type": "stream",
     "text": [
      "Results saved at inst/extdata/model/bsid_iii/svm/sample_size_estimation.csv\n",
      "Scaler saved at inst/extdata/model/bsid_iii/svm/scaler.joblib\n"
     ]
    },
    {
     "name": "stderr",
     "output_type": "stream",
     "text": [
      "Using 301 background data samples could cause slower run times. Consider using shap.sample(data, K) or shap.kmeans(data, K) to summarize the background as K samples.\n"
     ]
    },
    {
     "name": "stdout",
     "output_type": "stream",
     "text": [
      "Model saved at inst/extdata/model/bsid_iii/svm/model.joblib\n",
      "Results saved at inst/extdata/model/bsid_iii/svm/train_prob.csv\n",
      "Results saved at inst/extdata/model/bsid_iii/svm/validation_prob.csv\n",
      "Results saved at inst/extdata/model/bsid_iii/svm/test_prob.csv\n"
     ]
    },
    {
     "name": "stderr",
     "output_type": "stream",
     "text": [
      "100%|█████████████████████████| 301/301 [02:30<00:00,  2.00it/s]"
     ]
    },
    {
     "name": "stdout",
     "output_type": "stream",
     "text": [
      "Results saved at inst/extdata/model/bsid_iii/svm/shap_values.csv\n"
     ]
    },
    {
     "name": "stderr",
     "output_type": "stream",
     "text": [
      "\n"
     ]
    }
   ],
   "source": [
    "prefix = 'predmod_data/asd_bsid_iii'\n",
    "model_name = 'SVM'\n",
    "model_dir = 'model/bsid_iii/svm'\n",
    "\n",
    "train_and_estimate_sample_size(f'{prefix}_train', models_and_params[model_name], model_dir, seed = seed)\n",
    "custom_precision = make_scorer(precision_score, zero_division=0)\n",
    "train_and_save_model(f'{prefix}_train', models_and_params[model_name], model_dir, scoring=custom_precision, seed = seed)\n",
    "\n",
    "output_type = 'probability'\n",
    "load_and_predict(prefix, 'train', output_type, model_dir)\n",
    "load_and_predict(prefix, 'validation', output_type, model_dir)\n",
    "load_and_predict(prefix, 'test', output_type, model_dir)\n",
    "compute_shap_values(f'{prefix}_train', explainers[model_name], model_dir)"
   ]
  },
  {
   "cell_type": "markdown",
   "id": "02ca3974-ce82-4bef-a914-bb4b87ea2151",
   "metadata": {},
   "source": [
    "### k-Nearest Neighbor"
   ]
  },
  {
   "cell_type": "code",
   "execution_count": 9,
   "id": "23da627b-78be-455a-b8d3-9548b5f8f136",
   "metadata": {},
   "outputs": [
    {
     "name": "stderr",
     "output_type": "stream",
     "text": [
      "invalid value encountered in cast\n",
      "Using 301 background data samples could cause slower run times. Consider using shap.sample(data, K) or shap.kmeans(data, K) to summarize the background as K samples.\n"
     ]
    },
    {
     "name": "stdout",
     "output_type": "stream",
     "text": [
      "Results saved at inst/extdata/model/bsid_iii/knn/sample_size_estimation.csv\n",
      "Scaler saved at inst/extdata/model/bsid_iii/knn/scaler.joblib\n",
      "Model saved at inst/extdata/model/bsid_iii/knn/model.joblib\n",
      "Results saved at inst/extdata/model/bsid_iii/knn/train_prob.csv\n",
      "Results saved at inst/extdata/model/bsid_iii/knn/validation_prob.csv\n",
      "Results saved at inst/extdata/model/bsid_iii/knn/test_prob.csv\n"
     ]
    },
    {
     "name": "stderr",
     "output_type": "stream",
     "text": [
      "100%|█████████████████████████| 301/301 [04:36<00:00,  1.09it/s]"
     ]
    },
    {
     "name": "stdout",
     "output_type": "stream",
     "text": [
      "Results saved at inst/extdata/model/bsid_iii/knn/shap_values.csv\n"
     ]
    },
    {
     "name": "stderr",
     "output_type": "stream",
     "text": [
      "\n"
     ]
    }
   ],
   "source": [
    "prefix = 'predmod_data/asd_bsid_iii'\n",
    "model_name = 'KNN'\n",
    "model_dir = 'model/bsid_iii/knn'\n",
    "\n",
    "train_and_estimate_sample_size(f'{prefix}_train', models_and_params[model_name], model_dir, seed = seed)\n",
    "custom_precision = make_scorer(precision_score, zero_division=0)\n",
    "train_and_save_model(f'{prefix}_train', models_and_params[model_name], model_dir, scoring=custom_precision, seed = seed)\n",
    "\n",
    "output_type = 'probability'\n",
    "load_and_predict(prefix, 'train', output_type, model_dir)\n",
    "load_and_predict(prefix, 'validation', output_type, model_dir)\n",
    "load_and_predict(prefix, 'test', output_type, model_dir)\n",
    "compute_shap_values(f'{prefix}_train', explainers[model_name], model_dir)"
   ]
  },
  {
   "cell_type": "markdown",
   "id": "42209a3a-aa67-4379-94b0-e302c7ab8676",
   "metadata": {},
   "source": [
    "### Decision Tree"
   ]
  },
  {
   "cell_type": "code",
   "execution_count": 10,
   "id": "11795ce8-3327-4de5-984c-6091c1d7693f",
   "metadata": {},
   "outputs": [
    {
     "name": "stdout",
     "output_type": "stream",
     "text": [
      "Results saved at inst/extdata/model/bsid_iii/dt/sample_size_estimation.csv\n",
      "Scaler saved at inst/extdata/model/bsid_iii/dt/scaler.joblib\n",
      "Model saved at inst/extdata/model/bsid_iii/dt/model.joblib\n",
      "Results saved at inst/extdata/model/bsid_iii/dt/train_prob.csv\n",
      "Results saved at inst/extdata/model/bsid_iii/dt/validation_prob.csv\n",
      "Results saved at inst/extdata/model/bsid_iii/dt/test_prob.csv\n",
      "Results saved at inst/extdata/model/bsid_iii/dt/shap_values.csv\n"
     ]
    }
   ],
   "source": [
    "prefix = 'predmod_data/asd_bsid_iii'\n",
    "model_name = 'DecisionTree'\n",
    "model_dir = 'model/bsid_iii/dt'\n",
    "\n",
    "train_and_estimate_sample_size(f'{prefix}_train', models_and_params[model_name], model_dir, seed = seed)\n",
    "custom_precision = make_scorer(precision_score, zero_division=0)\n",
    "train_and_save_model(f'{prefix}_train', models_and_params[model_name], model_dir, scoring=custom_precision, seed = seed)\n",
    "\n",
    "output_type = 'probability'\n",
    "load_and_predict(prefix, 'train', output_type, model_dir)\n",
    "load_and_predict(prefix, 'validation', output_type, model_dir)\n",
    "load_and_predict(prefix, 'test', output_type, model_dir)\n",
    "compute_shap_values(f'{prefix}_train', explainers[model_name], model_dir)"
   ]
  },
  {
   "cell_type": "markdown",
   "id": "0348b383-f3c9-422a-bec2-84136946eecb",
   "metadata": {},
   "source": [
    "### Random Forest"
   ]
  },
  {
   "cell_type": "code",
   "execution_count": 11,
   "id": "a71ec206-da39-4822-8242-12737197a37d",
   "metadata": {},
   "outputs": [
    {
     "name": "stdout",
     "output_type": "stream",
     "text": [
      "Results saved at inst/extdata/model/bsid_iii/rf/sample_size_estimation.csv\n",
      "Scaler saved at inst/extdata/model/bsid_iii/rf/scaler.joblib\n",
      "Model saved at inst/extdata/model/bsid_iii/rf/model.joblib\n",
      "Results saved at inst/extdata/model/bsid_iii/rf/train_prob.csv\n",
      "Results saved at inst/extdata/model/bsid_iii/rf/validation_prob.csv\n",
      "Results saved at inst/extdata/model/bsid_iii/rf/test_prob.csv\n",
      "Results saved at inst/extdata/model/bsid_iii/rf/shap_values.csv\n"
     ]
    }
   ],
   "source": [
    "prefix = 'predmod_data/asd_bsid_iii'\n",
    "model_name = 'RandomForest'\n",
    "model_dir = 'model/bsid_iii/rf'\n",
    "\n",
    "train_and_estimate_sample_size(f'{prefix}_train', models_and_params[model_name], model_dir, seed = seed)\n",
    "custom_precision = make_scorer(precision_score, zero_division=0)\n",
    "train_and_save_model(f'{prefix}_train', models_and_params[model_name], model_dir, scoring=custom_precision, seed = seed)\n",
    "\n",
    "output_type = 'probability'\n",
    "load_and_predict(prefix, 'train', output_type, model_dir)\n",
    "load_and_predict(prefix, 'validation', output_type, model_dir)\n",
    "load_and_predict(prefix, 'test', output_type, model_dir)\n",
    "compute_shap_values(f'{prefix}_train', explainers[model_name], model_dir)"
   ]
  },
  {
   "cell_type": "markdown",
   "id": "2e6139cc-b3f4-46b2-aa1d-a4637918800b",
   "metadata": {},
   "source": [
    "### Gradient Boosting Machine"
   ]
  },
  {
   "cell_type": "code",
   "execution_count": 12,
   "id": "ca201cb6-1cbd-42ef-a5f9-3f546c00443f",
   "metadata": {},
   "outputs": [
    {
     "name": "stdout",
     "output_type": "stream",
     "text": [
      "Results saved at inst/extdata/model/bsid_iii/gbm/sample_size_estimation.csv\n",
      "Scaler saved at inst/extdata/model/bsid_iii/gbm/scaler.joblib\n",
      "Model saved at inst/extdata/model/bsid_iii/gbm/model.joblib\n",
      "Results saved at inst/extdata/model/bsid_iii/gbm/train_prob.csv\n",
      "Results saved at inst/extdata/model/bsid_iii/gbm/validation_prob.csv\n",
      "Results saved at inst/extdata/model/bsid_iii/gbm/test_prob.csv\n",
      "Results saved at inst/extdata/model/bsid_iii/gbm/shap_values.csv\n"
     ]
    }
   ],
   "source": [
    "prefix = 'predmod_data/asd_bsid_iii'\n",
    "model_name = 'GradientBoosting'\n",
    "model_dir = 'model/bsid_iii/gbm'\n",
    "\n",
    "train_and_estimate_sample_size(f'{prefix}_train', models_and_params[model_name], model_dir, seed = seed)\n",
    "custom_precision = make_scorer(precision_score, zero_division=0)\n",
    "train_and_save_model(f'{prefix}_train', models_and_params[model_name], model_dir, scoring=custom_precision, seed = seed)\n",
    "\n",
    "output_type = 'probability'\n",
    "load_and_predict(prefix, 'train', output_type, model_dir)\n",
    "load_and_predict(prefix, 'validation', output_type, model_dir)\n",
    "load_and_predict(prefix, 'test', output_type, model_dir)\n",
    "compute_shap_values(f'{prefix}_train', explainers[model_name], model_dir)"
   ]
  },
  {
   "cell_type": "markdown",
   "id": "4cb845e6-c54e-4866-93aa-e71a88b8fc5c",
   "metadata": {},
   "source": [
    "### Deep Neural Network"
   ]
  },
  {
   "cell_type": "code",
   "execution_count": 13,
   "id": "85473a6e-fea9-47f4-a319-54237bda62f3",
   "metadata": {},
   "outputs": [
    {
     "name": "stderr",
     "output_type": "stream",
     "text": [
      "/opt/conda/lib/python3.12/site-packages/sklearn/neural_network/_multilayer_perceptron.py:690: ConvergenceWarning: Stochastic Optimizer: Maximum iterations (5000) reached and the optimization hasn't converged yet.\n",
      "  warnings.warn(\n",
      "/opt/conda/lib/python3.12/site-packages/sklearn/neural_network/_multilayer_perceptron.py:690: ConvergenceWarning: Stochastic Optimizer: Maximum iterations (5000) reached and the optimization hasn't converged yet.\n",
      "  warnings.warn(\n",
      "/opt/conda/lib/python3.12/site-packages/sklearn/neural_network/_multilayer_perceptron.py:690: ConvergenceWarning: Stochastic Optimizer: Maximum iterations (5000) reached and the optimization hasn't converged yet.\n",
      "  warnings.warn(\n",
      "/opt/conda/lib/python3.12/site-packages/sklearn/neural_network/_multilayer_perceptron.py:690: ConvergenceWarning: Stochastic Optimizer: Maximum iterations (5000) reached and the optimization hasn't converged yet.\n",
      "  warnings.warn(\n",
      "/opt/conda/lib/python3.12/site-packages/sklearn/neural_network/_multilayer_perceptron.py:690: ConvergenceWarning: Stochastic Optimizer: Maximum iterations (5000) reached and the optimization hasn't converged yet.\n",
      "  warnings.warn(\n",
      "/opt/conda/lib/python3.12/site-packages/sklearn/neural_network/_multilayer_perceptron.py:690: ConvergenceWarning: Stochastic Optimizer: Maximum iterations (5000) reached and the optimization hasn't converged yet.\n",
      "  warnings.warn(\n",
      "/opt/conda/lib/python3.12/site-packages/sklearn/neural_network/_multilayer_perceptron.py:690: ConvergenceWarning: Stochastic Optimizer: Maximum iterations (5000) reached and the optimization hasn't converged yet.\n",
      "  warnings.warn(\n",
      "/opt/conda/lib/python3.12/site-packages/sklearn/neural_network/_multilayer_perceptron.py:690: ConvergenceWarning: Stochastic Optimizer: Maximum iterations (5000) reached and the optimization hasn't converged yet.\n",
      "  warnings.warn(\n",
      "/opt/conda/lib/python3.12/site-packages/sklearn/neural_network/_multilayer_perceptron.py:690: ConvergenceWarning: Stochastic Optimizer: Maximum iterations (5000) reached and the optimization hasn't converged yet.\n",
      "  warnings.warn(\n",
      "/opt/conda/lib/python3.12/site-packages/sklearn/neural_network/_multilayer_perceptron.py:690: ConvergenceWarning: Stochastic Optimizer: Maximum iterations (5000) reached and the optimization hasn't converged yet.\n",
      "  warnings.warn(\n",
      "Stochastic Optimizer: Maximum iterations (5000) reached and the optimization hasn't converged yet.\n",
      "/opt/conda/lib/python3.12/site-packages/sklearn/neural_network/_multilayer_perceptron.py:690: ConvergenceWarning: Stochastic Optimizer: Maximum iterations (5000) reached and the optimization hasn't converged yet.\n",
      "  warnings.warn(\n",
      "/opt/conda/lib/python3.12/site-packages/sklearn/neural_network/_multilayer_perceptron.py:690: ConvergenceWarning: Stochastic Optimizer: Maximum iterations (5000) reached and the optimization hasn't converged yet.\n",
      "  warnings.warn(\n",
      "/opt/conda/lib/python3.12/site-packages/sklearn/neural_network/_multilayer_perceptron.py:690: ConvergenceWarning: Stochastic Optimizer: Maximum iterations (5000) reached and the optimization hasn't converged yet.\n",
      "  warnings.warn(\n",
      "/opt/conda/lib/python3.12/site-packages/sklearn/neural_network/_multilayer_perceptron.py:690: ConvergenceWarning: Stochastic Optimizer: Maximum iterations (5000) reached and the optimization hasn't converged yet.\n",
      "  warnings.warn(\n",
      "/opt/conda/lib/python3.12/site-packages/sklearn/neural_network/_multilayer_perceptron.py:690: ConvergenceWarning: Stochastic Optimizer: Maximum iterations (5000) reached and the optimization hasn't converged yet.\n",
      "  warnings.warn(\n",
      "Stochastic Optimizer: Maximum iterations (5000) reached and the optimization hasn't converged yet.\n",
      "/opt/conda/lib/python3.12/site-packages/sklearn/neural_network/_multilayer_perceptron.py:690: ConvergenceWarning: Stochastic Optimizer: Maximum iterations (5000) reached and the optimization hasn't converged yet.\n",
      "  warnings.warn(\n",
      "/opt/conda/lib/python3.12/site-packages/sklearn/neural_network/_multilayer_perceptron.py:690: ConvergenceWarning: Stochastic Optimizer: Maximum iterations (5000) reached and the optimization hasn't converged yet.\n",
      "  warnings.warn(\n",
      "/opt/conda/lib/python3.12/site-packages/sklearn/neural_network/_multilayer_perceptron.py:690: ConvergenceWarning: Stochastic Optimizer: Maximum iterations (5000) reached and the optimization hasn't converged yet.\n",
      "  warnings.warn(\n",
      "/opt/conda/lib/python3.12/site-packages/sklearn/neural_network/_multilayer_perceptron.py:690: ConvergenceWarning: Stochastic Optimizer: Maximum iterations (5000) reached and the optimization hasn't converged yet.\n",
      "  warnings.warn(\n",
      "/opt/conda/lib/python3.12/site-packages/sklearn/neural_network/_multilayer_perceptron.py:690: ConvergenceWarning: Stochastic Optimizer: Maximum iterations (5000) reached and the optimization hasn't converged yet.\n",
      "  warnings.warn(\n",
      "Stochastic Optimizer: Maximum iterations (5000) reached and the optimization hasn't converged yet.\n"
     ]
    },
    {
     "name": "stdout",
     "output_type": "stream",
     "text": [
      "Results saved at inst/extdata/model/bsid_iii/dnn/sample_size_estimation.csv\n",
      "Scaler saved at inst/extdata/model/bsid_iii/dnn/scaler.joblib\n"
     ]
    },
    {
     "name": "stderr",
     "output_type": "stream",
     "text": [
      "Using 301 background data samples could cause slower run times. Consider using shap.sample(data, K) or shap.kmeans(data, K) to summarize the background as K samples.\n"
     ]
    },
    {
     "name": "stdout",
     "output_type": "stream",
     "text": [
      "Model saved at inst/extdata/model/bsid_iii/dnn/model.joblib\n",
      "Results saved at inst/extdata/model/bsid_iii/dnn/train_prob.csv\n",
      "Results saved at inst/extdata/model/bsid_iii/dnn/validation_prob.csv\n",
      "Results saved at inst/extdata/model/bsid_iii/dnn/test_prob.csv\n"
     ]
    },
    {
     "name": "stderr",
     "output_type": "stream",
     "text": [
      "100%|█████████████████████████| 301/301 [02:31<00:00,  1.99it/s]"
     ]
    },
    {
     "name": "stdout",
     "output_type": "stream",
     "text": [
      "Results saved at inst/extdata/model/bsid_iii/dnn/shap_values.csv\n"
     ]
    },
    {
     "name": "stderr",
     "output_type": "stream",
     "text": [
      "\n"
     ]
    }
   ],
   "source": [
    "prefix = 'predmod_data/asd_bsid_iii'\n",
    "model_name = 'DeepNeuralNetwork'\n",
    "model_dir = 'model/bsid_iii/dnn'\n",
    "\n",
    "train_and_estimate_sample_size(f'{prefix}_train', models_and_params[model_name], model_dir, seed = seed)\n",
    "custom_precision = make_scorer(precision_score, zero_division=0)\n",
    "train_and_save_model(f'{prefix}_train', models_and_params[model_name], model_dir, scoring=custom_precision, seed = seed)\n",
    "\n",
    "output_type = 'probability'\n",
    "load_and_predict(prefix, 'train', output_type, model_dir)\n",
    "load_and_predict(prefix, 'validation', output_type, model_dir)\n",
    "load_and_predict(prefix, 'test', output_type, model_dir)\n",
    "compute_shap_values(f'{prefix}_train', explainers[model_name], model_dir)"
   ]
  },
  {
   "cell_type": "markdown",
   "id": "2a60ff33-af67-4d95-8230-383d033fadb1",
   "metadata": {},
   "source": [
    "## M-CHAT-R"
   ]
  },
  {
   "cell_type": "markdown",
   "id": "a548ff6e-ebbd-4b72-9856-4039e9bfd20c",
   "metadata": {},
   "source": [
    "### Ridge Regression"
   ]
  },
  {
   "cell_type": "code",
   "execution_count": 22,
   "id": "c675ffff-5843-4741-ab7a-a73c1a63857c",
   "metadata": {},
   "outputs": [
    {
     "name": "stdout",
     "output_type": "stream",
     "text": [
      "Results saved at inst/extdata/model/m_chat_r/rr/sample_size_estimation.csv\n",
      "Scaler saved at inst/extdata/model/m_chat_r/rr/scaler.joblib\n",
      "Model saved at inst/extdata/model/m_chat_r/rr/model.joblib\n",
      "Results saved at inst/extdata/model/m_chat_r/rr/train_prob.csv\n",
      "Results saved at inst/extdata/model/m_chat_r/rr/validation_prob.csv\n",
      "Results saved at inst/extdata/model/m_chat_r/rr/test_prob.csv\n",
      "Results saved at inst/extdata/model/m_chat_r/rr/shap_values.csv\n"
     ]
    }
   ],
   "source": [
    "prefix = 'predmod_data/asd_m_chat_r'\n",
    "model_name = 'LogisticRegression'\n",
    "model_dir = 'model/m_chat_r/rr'\n",
    "\n",
    "train_and_estimate_sample_size(f'{prefix}_train', models_and_params[model_name], model_dir, seed = seed)\n",
    "custom_precision = make_scorer(precision_score, zero_division=0)\n",
    "train_and_save_model(f'{prefix}_train', models_and_params[model_name], model_dir, scoring=custom_precision, seed = seed)\n",
    "\n",
    "output_type = 'probability'\n",
    "load_and_predict(prefix, 'train', output_type, model_dir)\n",
    "load_and_predict(prefix, 'validation', output_type, model_dir)\n",
    "load_and_predict(prefix, 'test', output_type, model_dir)\n",
    "compute_shap_values(f'{prefix}_train', explainers[model_name], model_dir)"
   ]
  },
  {
   "cell_type": "markdown",
   "id": "a8201085-0f60-4cee-b078-9fcdef26fc0c",
   "metadata": {},
   "source": [
    "### Naive Bayes"
   ]
  },
  {
   "cell_type": "code",
   "execution_count": 23,
   "id": "36f07f85-1c21-4ac6-8757-67fdc9532f43",
   "metadata": {},
   "outputs": [
    {
     "name": "stderr",
     "output_type": "stream",
     "text": [
      "Using 301 background data samples could cause slower run times. Consider using shap.sample(data, K) or shap.kmeans(data, K) to summarize the background as K samples.\n"
     ]
    },
    {
     "name": "stdout",
     "output_type": "stream",
     "text": [
      "Results saved at inst/extdata/model/m_chat_r/nb/sample_size_estimation.csv\n",
      "Scaler saved at inst/extdata/model/m_chat_r/nb/scaler.joblib\n",
      "Model saved at inst/extdata/model/m_chat_r/nb/model.joblib\n",
      "Results saved at inst/extdata/model/m_chat_r/nb/train_prob.csv\n",
      "Results saved at inst/extdata/model/m_chat_r/nb/validation_prob.csv\n",
      "Results saved at inst/extdata/model/m_chat_r/nb/test_prob.csv\n"
     ]
    },
    {
     "name": "stderr",
     "output_type": "stream",
     "text": [
      "100%|█████████████████████████| 301/301 [03:36<00:00,  1.39it/s]"
     ]
    },
    {
     "name": "stdout",
     "output_type": "stream",
     "text": [
      "Results saved at inst/extdata/model/m_chat_r/nb/shap_values.csv\n"
     ]
    },
    {
     "name": "stderr",
     "output_type": "stream",
     "text": [
      "\n"
     ]
    }
   ],
   "source": [
    "prefix = 'predmod_data/asd_m_chat_r'\n",
    "model_name = 'NaiveBayes'\n",
    "model_dir = 'model/m_chat_r/nb'\n",
    "\n",
    "train_and_estimate_sample_size(f'{prefix}_train', models_and_params[model_name], model_dir, seed = seed)\n",
    "custom_precision = make_scorer(precision_score, zero_division=0)\n",
    "train_and_save_model(f'{prefix}_train', models_and_params[model_name], model_dir, scoring=custom_precision, seed = seed)\n",
    "\n",
    "output_type = 'probability'\n",
    "load_and_predict(prefix, 'train', output_type, model_dir)\n",
    "load_and_predict(prefix, 'validation', output_type, model_dir)\n",
    "load_and_predict(prefix, 'test', output_type, model_dir)\n",
    "compute_shap_values(f'{prefix}_train', explainers[model_name], model_dir)"
   ]
  },
  {
   "cell_type": "markdown",
   "id": "156ccbe0-d55a-492f-b4e1-1b0e76d1374d",
   "metadata": {},
   "source": [
    "### Support Vector Machine"
   ]
  },
  {
   "cell_type": "code",
   "execution_count": 24,
   "id": "6a6d9c2f-d801-4449-9c5b-2e94049abead",
   "metadata": {},
   "outputs": [
    {
     "name": "stdout",
     "output_type": "stream",
     "text": [
      "Results saved at inst/extdata/model/m_chat_r/svm/sample_size_estimation.csv\n",
      "Scaler saved at inst/extdata/model/m_chat_r/svm/scaler.joblib\n"
     ]
    },
    {
     "name": "stderr",
     "output_type": "stream",
     "text": [
      "Using 301 background data samples could cause slower run times. Consider using shap.sample(data, K) or shap.kmeans(data, K) to summarize the background as K samples.\n"
     ]
    },
    {
     "name": "stdout",
     "output_type": "stream",
     "text": [
      "Model saved at inst/extdata/model/m_chat_r/svm/model.joblib\n",
      "Results saved at inst/extdata/model/m_chat_r/svm/train_prob.csv\n",
      "Results saved at inst/extdata/model/m_chat_r/svm/validation_prob.csv\n",
      "Results saved at inst/extdata/model/m_chat_r/svm/test_prob.csv\n"
     ]
    },
    {
     "name": "stderr",
     "output_type": "stream",
     "text": [
      "100%|█████████████████████████| 301/301 [04:38<00:00,  1.08it/s]"
     ]
    },
    {
     "name": "stdout",
     "output_type": "stream",
     "text": [
      "Results saved at inst/extdata/model/m_chat_r/svm/shap_values.csv\n"
     ]
    },
    {
     "name": "stderr",
     "output_type": "stream",
     "text": [
      "\n"
     ]
    }
   ],
   "source": [
    "prefix = 'predmod_data/asd_m_chat_r'\n",
    "model_name = 'SVM'\n",
    "model_dir = 'model/m_chat_r/svm'\n",
    "\n",
    "train_and_estimate_sample_size(f'{prefix}_train', models_and_params[model_name], model_dir, seed = seed)\n",
    "custom_precision = make_scorer(precision_score, zero_division=0)\n",
    "train_and_save_model(f'{prefix}_train', models_and_params[model_name], model_dir, scoring=custom_precision, seed = seed)\n",
    "\n",
    "output_type = 'probability'\n",
    "load_and_predict(prefix, 'train', output_type, model_dir)\n",
    "load_and_predict(prefix, 'validation', output_type, model_dir)\n",
    "load_and_predict(prefix, 'test', output_type, model_dir)\n",
    "compute_shap_values(f'{prefix}_train', explainers[model_name], model_dir)"
   ]
  },
  {
   "cell_type": "markdown",
   "id": "0deae826-b9a8-465d-9ced-25eea54e362c",
   "metadata": {},
   "source": [
    "### k-Nearest Neighbor"
   ]
  },
  {
   "cell_type": "code",
   "execution_count": 25,
   "id": "375c1343-c1c2-48f6-8b83-973ad1cf77a3",
   "metadata": {},
   "outputs": [
    {
     "name": "stderr",
     "output_type": "stream",
     "text": [
      "Using 301 background data samples could cause slower run times. Consider using shap.sample(data, K) or shap.kmeans(data, K) to summarize the background as K samples.\n"
     ]
    },
    {
     "name": "stdout",
     "output_type": "stream",
     "text": [
      "Results saved at inst/extdata/model/m_chat_r/knn/sample_size_estimation.csv\n",
      "Scaler saved at inst/extdata/model/m_chat_r/knn/scaler.joblib\n",
      "Model saved at inst/extdata/model/m_chat_r/knn/model.joblib\n",
      "Results saved at inst/extdata/model/m_chat_r/knn/train_prob.csv\n",
      "Results saved at inst/extdata/model/m_chat_r/knn/validation_prob.csv\n",
      "Results saved at inst/extdata/model/m_chat_r/knn/test_prob.csv\n"
     ]
    },
    {
     "name": "stderr",
     "output_type": "stream",
     "text": [
      "100%|█████████████████████████| 301/301 [41:07<00:00,  8.20s/it]"
     ]
    },
    {
     "name": "stdout",
     "output_type": "stream",
     "text": [
      "Results saved at inst/extdata/model/m_chat_r/knn/shap_values.csv\n"
     ]
    },
    {
     "name": "stderr",
     "output_type": "stream",
     "text": [
      "\n"
     ]
    }
   ],
   "source": [
    "prefix = 'predmod_data/asd_m_chat_r'\n",
    "model_name = 'KNN'\n",
    "model_dir = 'model/m_chat_r/knn'\n",
    "\n",
    "train_and_estimate_sample_size(f'{prefix}_train', models_and_params[model_name], model_dir, seed = seed)\n",
    "custom_precision = make_scorer(precision_score, zero_division=0)\n",
    "train_and_save_model(f'{prefix}_train', models_and_params[model_name], model_dir, scoring=custom_precision, seed = seed)\n",
    "\n",
    "output_type = 'probability'\n",
    "load_and_predict(prefix, 'train', output_type, model_dir)\n",
    "load_and_predict(prefix, 'validation', output_type, model_dir)\n",
    "load_and_predict(prefix, 'test', output_type, model_dir)\n",
    "compute_shap_values(f'{prefix}_train', explainers[model_name], model_dir)"
   ]
  },
  {
   "cell_type": "markdown",
   "id": "b5c3b202-6cd0-4102-b2e0-bd0167d35180",
   "metadata": {},
   "source": [
    "### Decision Tree"
   ]
  },
  {
   "cell_type": "code",
   "execution_count": 26,
   "id": "eb59f76c-114a-4996-b488-088953c3e61a",
   "metadata": {},
   "outputs": [
    {
     "name": "stdout",
     "output_type": "stream",
     "text": [
      "Results saved at inst/extdata/model/m_chat_r/dt/sample_size_estimation.csv\n",
      "Scaler saved at inst/extdata/model/m_chat_r/dt/scaler.joblib\n",
      "Model saved at inst/extdata/model/m_chat_r/dt/model.joblib\n",
      "Results saved at inst/extdata/model/m_chat_r/dt/train_prob.csv\n",
      "Results saved at inst/extdata/model/m_chat_r/dt/validation_prob.csv\n",
      "Results saved at inst/extdata/model/m_chat_r/dt/test_prob.csv\n",
      "Results saved at inst/extdata/model/m_chat_r/dt/shap_values.csv\n"
     ]
    }
   ],
   "source": [
    "prefix = 'predmod_data/asd_m_chat_r'\n",
    "model_name = 'DecisionTree'\n",
    "model_dir = 'model/m_chat_r/dt'\n",
    "\n",
    "train_and_estimate_sample_size(f'{prefix}_train', models_and_params[model_name], model_dir, seed = seed)\n",
    "custom_precision = make_scorer(precision_score, zero_division=0)\n",
    "train_and_save_model(f'{prefix}_train', models_and_params[model_name], model_dir, scoring=custom_precision, seed = seed)\n",
    "\n",
    "output_type = 'probability'\n",
    "load_and_predict(prefix, 'train', output_type, model_dir)\n",
    "load_and_predict(prefix, 'validation', output_type, model_dir)\n",
    "load_and_predict(prefix, 'test', output_type, model_dir)\n",
    "compute_shap_values(f'{prefix}_train', explainers[model_name], model_dir)"
   ]
  },
  {
   "cell_type": "markdown",
   "id": "92cb0a63-cbc8-4bc3-85a7-b9353c579dba",
   "metadata": {},
   "source": [
    "### Random Forest"
   ]
  },
  {
   "cell_type": "code",
   "execution_count": 27,
   "id": "164aa507-6a19-4b7f-9550-27746bb9947b",
   "metadata": {},
   "outputs": [
    {
     "name": "stdout",
     "output_type": "stream",
     "text": [
      "Results saved at inst/extdata/model/m_chat_r/rf/sample_size_estimation.csv\n",
      "Scaler saved at inst/extdata/model/m_chat_r/rf/scaler.joblib\n",
      "Model saved at inst/extdata/model/m_chat_r/rf/model.joblib\n",
      "Results saved at inst/extdata/model/m_chat_r/rf/train_prob.csv\n",
      "Results saved at inst/extdata/model/m_chat_r/rf/validation_prob.csv\n",
      "Results saved at inst/extdata/model/m_chat_r/rf/test_prob.csv\n",
      "Results saved at inst/extdata/model/m_chat_r/rf/shap_values.csv\n"
     ]
    }
   ],
   "source": [
    "prefix = 'predmod_data/asd_m_chat_r'\n",
    "model_name = 'RandomForest'\n",
    "model_dir = 'model/m_chat_r/rf'\n",
    "\n",
    "train_and_estimate_sample_size(f'{prefix}_train', models_and_params[model_name], model_dir, seed = seed)\n",
    "custom_precision = make_scorer(precision_score, zero_division=0)\n",
    "train_and_save_model(f'{prefix}_train', models_and_params[model_name], model_dir, scoring=custom_precision, seed = seed)\n",
    "\n",
    "output_type = 'probability'\n",
    "load_and_predict(prefix, 'train', output_type, model_dir)\n",
    "load_and_predict(prefix, 'validation', output_type, model_dir)\n",
    "load_and_predict(prefix, 'test', output_type, model_dir)\n",
    "compute_shap_values(f'{prefix}_train', explainers[model_name], model_dir)"
   ]
  },
  {
   "cell_type": "markdown",
   "id": "255e7241-b5ab-47ab-a467-b45e974d62f3",
   "metadata": {},
   "source": [
    "### Gradient Boosting Machine"
   ]
  },
  {
   "cell_type": "code",
   "execution_count": 28,
   "id": "71cda5fc-f0b6-47e7-b09f-36c30685f1b6",
   "metadata": {},
   "outputs": [
    {
     "name": "stdout",
     "output_type": "stream",
     "text": [
      "Results saved at inst/extdata/model/m_chat_r/gbm/sample_size_estimation.csv\n",
      "Scaler saved at inst/extdata/model/m_chat_r/gbm/scaler.joblib\n",
      "Model saved at inst/extdata/model/m_chat_r/gbm/model.joblib\n",
      "Results saved at inst/extdata/model/m_chat_r/gbm/train_prob.csv\n",
      "Results saved at inst/extdata/model/m_chat_r/gbm/validation_prob.csv\n",
      "Results saved at inst/extdata/model/m_chat_r/gbm/test_prob.csv\n",
      "Results saved at inst/extdata/model/m_chat_r/gbm/shap_values.csv\n"
     ]
    }
   ],
   "source": [
    "prefix = 'predmod_data/asd_m_chat_r'\n",
    "model_name = 'GradientBoosting'\n",
    "model_dir = 'model/m_chat_r/gbm'\n",
    "\n",
    "train_and_estimate_sample_size(f'{prefix}_train', models_and_params[model_name], model_dir, seed = seed)\n",
    "custom_precision = make_scorer(precision_score, zero_division=0)\n",
    "train_and_save_model(f'{prefix}_train', models_and_params[model_name], model_dir, scoring=custom_precision, seed = seed)\n",
    "\n",
    "output_type = 'probability'\n",
    "load_and_predict(prefix, 'train', output_type, model_dir)\n",
    "load_and_predict(prefix, 'validation', output_type, model_dir)\n",
    "load_and_predict(prefix, 'test', output_type, model_dir)\n",
    "compute_shap_values(f'{prefix}_train', explainers[model_name], model_dir)"
   ]
  },
  {
   "cell_type": "markdown",
   "id": "81537e12-4c71-452c-9373-9f0e3374789c",
   "metadata": {},
   "source": [
    "### Deep Neural Network"
   ]
  },
  {
   "cell_type": "code",
   "execution_count": 29,
   "id": "9a28ba73-76f6-4d83-837e-e585e75523be",
   "metadata": {
    "scrolled": true
   },
   "outputs": [
    {
     "name": "stderr",
     "output_type": "stream",
     "text": [
      "/opt/conda/lib/python3.12/site-packages/sklearn/neural_network/_multilayer_perceptron.py:690: ConvergenceWarning: Stochastic Optimizer: Maximum iterations (5000) reached and the optimization hasn't converged yet.\n",
      "  warnings.warn(\n",
      "/opt/conda/lib/python3.12/site-packages/sklearn/neural_network/_multilayer_perceptron.py:690: ConvergenceWarning: Stochastic Optimizer: Maximum iterations (5000) reached and the optimization hasn't converged yet.\n",
      "  warnings.warn(\n",
      "/opt/conda/lib/python3.12/site-packages/sklearn/neural_network/_multilayer_perceptron.py:690: ConvergenceWarning: Stochastic Optimizer: Maximum iterations (5000) reached and the optimization hasn't converged yet.\n",
      "  warnings.warn(\n",
      "/opt/conda/lib/python3.12/site-packages/sklearn/neural_network/_multilayer_perceptron.py:690: ConvergenceWarning: Stochastic Optimizer: Maximum iterations (5000) reached and the optimization hasn't converged yet.\n",
      "  warnings.warn(\n",
      "/opt/conda/lib/python3.12/site-packages/sklearn/neural_network/_multilayer_perceptron.py:690: ConvergenceWarning: Stochastic Optimizer: Maximum iterations (5000) reached and the optimization hasn't converged yet.\n",
      "  warnings.warn(\n",
      "/opt/conda/lib/python3.12/site-packages/sklearn/neural_network/_multilayer_perceptron.py:690: ConvergenceWarning: Stochastic Optimizer: Maximum iterations (5000) reached and the optimization hasn't converged yet.\n",
      "  warnings.warn(\n",
      "/opt/conda/lib/python3.12/site-packages/sklearn/neural_network/_multilayer_perceptron.py:690: ConvergenceWarning: Stochastic Optimizer: Maximum iterations (5000) reached and the optimization hasn't converged yet.\n",
      "  warnings.warn(\n",
      "/opt/conda/lib/python3.12/site-packages/sklearn/neural_network/_multilayer_perceptron.py:690: ConvergenceWarning: Stochastic Optimizer: Maximum iterations (5000) reached and the optimization hasn't converged yet.\n",
      "  warnings.warn(\n",
      "/opt/conda/lib/python3.12/site-packages/sklearn/neural_network/_multilayer_perceptron.py:690: ConvergenceWarning: Stochastic Optimizer: Maximum iterations (5000) reached and the optimization hasn't converged yet.\n",
      "  warnings.warn(\n",
      "/opt/conda/lib/python3.12/site-packages/sklearn/neural_network/_multilayer_perceptron.py:690: ConvergenceWarning: Stochastic Optimizer: Maximum iterations (5000) reached and the optimization hasn't converged yet.\n",
      "  warnings.warn(\n",
      "Stochastic Optimizer: Maximum iterations (5000) reached and the optimization hasn't converged yet.\n",
      "/opt/conda/lib/python3.12/site-packages/sklearn/neural_network/_multilayer_perceptron.py:690: ConvergenceWarning: Stochastic Optimizer: Maximum iterations (5000) reached and the optimization hasn't converged yet.\n",
      "  warnings.warn(\n",
      "/opt/conda/lib/python3.12/site-packages/sklearn/neural_network/_multilayer_perceptron.py:690: ConvergenceWarning: Stochastic Optimizer: Maximum iterations (5000) reached and the optimization hasn't converged yet.\n",
      "  warnings.warn(\n",
      "/opt/conda/lib/python3.12/site-packages/sklearn/neural_network/_multilayer_perceptron.py:690: ConvergenceWarning: Stochastic Optimizer: Maximum iterations (5000) reached and the optimization hasn't converged yet.\n",
      "  warnings.warn(\n",
      "/opt/conda/lib/python3.12/site-packages/sklearn/neural_network/_multilayer_perceptron.py:690: ConvergenceWarning: Stochastic Optimizer: Maximum iterations (5000) reached and the optimization hasn't converged yet.\n",
      "  warnings.warn(\n",
      "/opt/conda/lib/python3.12/site-packages/sklearn/neural_network/_multilayer_perceptron.py:690: ConvergenceWarning: Stochastic Optimizer: Maximum iterations (5000) reached and the optimization hasn't converged yet.\n",
      "  warnings.warn(\n",
      "Stochastic Optimizer: Maximum iterations (5000) reached and the optimization hasn't converged yet.\n",
      "/opt/conda/lib/python3.12/site-packages/sklearn/neural_network/_multilayer_perceptron.py:690: ConvergenceWarning: Stochastic Optimizer: Maximum iterations (5000) reached and the optimization hasn't converged yet.\n",
      "  warnings.warn(\n",
      "/opt/conda/lib/python3.12/site-packages/sklearn/neural_network/_multilayer_perceptron.py:690: ConvergenceWarning: Stochastic Optimizer: Maximum iterations (5000) reached and the optimization hasn't converged yet.\n",
      "  warnings.warn(\n",
      "/opt/conda/lib/python3.12/site-packages/sklearn/neural_network/_multilayer_perceptron.py:690: ConvergenceWarning: Stochastic Optimizer: Maximum iterations (5000) reached and the optimization hasn't converged yet.\n",
      "  warnings.warn(\n",
      "/opt/conda/lib/python3.12/site-packages/sklearn/neural_network/_multilayer_perceptron.py:690: ConvergenceWarning: Stochastic Optimizer: Maximum iterations (5000) reached and the optimization hasn't converged yet.\n",
      "  warnings.warn(\n",
      "/opt/conda/lib/python3.12/site-packages/sklearn/neural_network/_multilayer_perceptron.py:690: ConvergenceWarning: Stochastic Optimizer: Maximum iterations (5000) reached and the optimization hasn't converged yet.\n",
      "  warnings.warn(\n"
     ]
    },
    {
     "name": "stdout",
     "output_type": "stream",
     "text": [
      "Results saved at inst/extdata/model/m_chat_r/dnn/sample_size_estimation.csv\n",
      "Scaler saved at inst/extdata/model/m_chat_r/dnn/scaler.joblib\n"
     ]
    },
    {
     "name": "stderr",
     "output_type": "stream",
     "text": [
      "Using 301 background data samples could cause slower run times. Consider using shap.sample(data, K) or shap.kmeans(data, K) to summarize the background as K samples.\n"
     ]
    },
    {
     "name": "stdout",
     "output_type": "stream",
     "text": [
      "Model saved at inst/extdata/model/m_chat_r/dnn/model.joblib\n",
      "Results saved at inst/extdata/model/m_chat_r/dnn/train_prob.csv\n",
      "Results saved at inst/extdata/model/m_chat_r/dnn/validation_prob.csv\n",
      "Results saved at inst/extdata/model/m_chat_r/dnn/test_prob.csv\n"
     ]
    },
    {
     "name": "stderr",
     "output_type": "stream",
     "text": [
      "100%|█████████████████████████| 301/301 [03:59<00:00,  1.26it/s]"
     ]
    },
    {
     "name": "stdout",
     "output_type": "stream",
     "text": [
      "Results saved at inst/extdata/model/m_chat_r/dnn/shap_values.csv\n"
     ]
    },
    {
     "name": "stderr",
     "output_type": "stream",
     "text": [
      "\n"
     ]
    }
   ],
   "source": [
    "prefix = 'predmod_data/asd_m_chat_r'\n",
    "model_name = 'DeepNeuralNetwork'\n",
    "model_dir = 'model/m_chat_r/dnn'\n",
    "\n",
    "train_and_estimate_sample_size(f'{prefix}_train', models_and_params[model_name], model_dir, seed = seed)\n",
    "custom_precision = make_scorer(precision_score, zero_division=0)\n",
    "train_and_save_model(f'{prefix}_train', models_and_params[model_name], model_dir, scoring=custom_precision, seed = seed)\n",
    "\n",
    "output_type = 'probability'\n",
    "load_and_predict(prefix, 'train', output_type, model_dir)\n",
    "load_and_predict(prefix, 'validation', output_type, model_dir)\n",
    "load_and_predict(prefix, 'test', output_type, model_dir)\n",
    "compute_shap_values(f'{prefix}_train', explainers[model_name], model_dir)"
   ]
  },
  {
   "cell_type": "markdown",
   "id": "5903593e-98c1-4eba-be77-6f60d785a6fb",
   "metadata": {},
   "source": [
    "## M-CHAT-F"
   ]
  },
  {
   "cell_type": "markdown",
   "id": "3e05becc-2ff3-484d-bdcf-fb79a929671e",
   "metadata": {},
   "source": [
    "### Ridge Regression"
   ]
  },
  {
   "cell_type": "code",
   "execution_count": 30,
   "id": "459df266-8437-4419-afc7-e07b274b119b",
   "metadata": {},
   "outputs": [
    {
     "name": "stdout",
     "output_type": "stream",
     "text": [
      "Results saved at inst/extdata/model/m_chat_f/rr/sample_size_estimation.csv\n",
      "Scaler saved at inst/extdata/model/m_chat_f/rr/scaler.joblib\n",
      "Model saved at inst/extdata/model/m_chat_f/rr/model.joblib\n",
      "Results saved at inst/extdata/model/m_chat_f/rr/train_prob.csv\n",
      "Results saved at inst/extdata/model/m_chat_f/rr/validation_prob.csv\n",
      "Results saved at inst/extdata/model/m_chat_f/rr/test_prob.csv\n",
      "Results saved at inst/extdata/model/m_chat_f/rr/shap_values.csv\n"
     ]
    }
   ],
   "source": [
    "prefix = 'predmod_data/asd_m_chat_f'\n",
    "model_name = 'LogisticRegression'\n",
    "model_dir = 'model/m_chat_f/rr'\n",
    "\n",
    "train_and_estimate_sample_size(f'{prefix}_train', models_and_params[model_name], model_dir, seed = seed)\n",
    "custom_precision = make_scorer(precision_score, zero_division=0)\n",
    "train_and_save_model(f'{prefix}_train', models_and_params[model_name], model_dir, scoring=custom_precision, seed = seed)\n",
    "\n",
    "output_type = 'probability'\n",
    "load_and_predict(prefix, 'train', output_type, model_dir)\n",
    "load_and_predict(prefix, 'validation', output_type, model_dir)\n",
    "load_and_predict(prefix, 'test', output_type, model_dir)\n",
    "compute_shap_values(f'{prefix}_train', explainers[model_name], model_dir)"
   ]
  },
  {
   "cell_type": "markdown",
   "id": "d3d3da79-e165-475d-b24f-4cd77f60b1d1",
   "metadata": {},
   "source": [
    "### Naive Bayes"
   ]
  },
  {
   "cell_type": "code",
   "execution_count": 31,
   "id": "8695431b-96be-4dea-ac43-8968c638f783",
   "metadata": {},
   "outputs": [
    {
     "name": "stderr",
     "output_type": "stream",
     "text": [
      "Using 301 background data samples could cause slower run times. Consider using shap.sample(data, K) or shap.kmeans(data, K) to summarize the background as K samples.\n"
     ]
    },
    {
     "name": "stdout",
     "output_type": "stream",
     "text": [
      "Results saved at inst/extdata/model/m_chat_f/nb/sample_size_estimation.csv\n",
      "Scaler saved at inst/extdata/model/m_chat_f/nb/scaler.joblib\n",
      "Model saved at inst/extdata/model/m_chat_f/nb/model.joblib\n",
      "Results saved at inst/extdata/model/m_chat_f/nb/train_prob.csv\n",
      "Results saved at inst/extdata/model/m_chat_f/nb/validation_prob.csv\n",
      "Results saved at inst/extdata/model/m_chat_f/nb/test_prob.csv\n"
     ]
    },
    {
     "name": "stderr",
     "output_type": "stream",
     "text": [
      "100%|█████████████████████████| 301/301 [03:34<00:00,  1.40it/s]"
     ]
    },
    {
     "name": "stdout",
     "output_type": "stream",
     "text": [
      "Results saved at inst/extdata/model/m_chat_f/nb/shap_values.csv\n"
     ]
    },
    {
     "name": "stderr",
     "output_type": "stream",
     "text": [
      "\n"
     ]
    }
   ],
   "source": [
    "prefix = 'predmod_data/asd_m_chat_f'\n",
    "model_name = 'NaiveBayes'\n",
    "model_dir = 'model/m_chat_f/nb'\n",
    "\n",
    "train_and_estimate_sample_size(f'{prefix}_train', models_and_params[model_name], model_dir, seed = seed)\n",
    "custom_precision = make_scorer(precision_score, zero_division=0)\n",
    "train_and_save_model(f'{prefix}_train', models_and_params[model_name], model_dir, scoring=custom_precision, seed = seed)\n",
    "\n",
    "output_type = 'probability'\n",
    "load_and_predict(prefix, 'train', output_type, model_dir)\n",
    "load_and_predict(prefix, 'validation', output_type, model_dir)\n",
    "load_and_predict(prefix, 'test', output_type, model_dir)\n",
    "compute_shap_values(f'{prefix}_train', explainers[model_name], model_dir)"
   ]
  },
  {
   "cell_type": "markdown",
   "id": "44f2bd87-8951-450e-b2d8-e019d6cc80ae",
   "metadata": {},
   "source": [
    "### Support Vector Machine"
   ]
  },
  {
   "cell_type": "code",
   "execution_count": 32,
   "id": "cc057f96-b744-412e-9b2d-7b18760005d4",
   "metadata": {},
   "outputs": [
    {
     "name": "stdout",
     "output_type": "stream",
     "text": [
      "Results saved at inst/extdata/model/m_chat_f/svm/sample_size_estimation.csv\n",
      "Scaler saved at inst/extdata/model/m_chat_f/svm/scaler.joblib\n"
     ]
    },
    {
     "name": "stderr",
     "output_type": "stream",
     "text": [
      "Using 301 background data samples could cause slower run times. Consider using shap.sample(data, K) or shap.kmeans(data, K) to summarize the background as K samples.\n"
     ]
    },
    {
     "name": "stdout",
     "output_type": "stream",
     "text": [
      "Model saved at inst/extdata/model/m_chat_f/svm/model.joblib\n",
      "Results saved at inst/extdata/model/m_chat_f/svm/train_prob.csv\n",
      "Results saved at inst/extdata/model/m_chat_f/svm/validation_prob.csv\n",
      "Results saved at inst/extdata/model/m_chat_f/svm/test_prob.csv\n"
     ]
    },
    {
     "name": "stderr",
     "output_type": "stream",
     "text": [
      "100%|█████████████████████████| 301/301 [04:36<00:00,  1.09it/s]"
     ]
    },
    {
     "name": "stdout",
     "output_type": "stream",
     "text": [
      "Results saved at inst/extdata/model/m_chat_f/svm/shap_values.csv\n"
     ]
    },
    {
     "name": "stderr",
     "output_type": "stream",
     "text": [
      "\n"
     ]
    }
   ],
   "source": [
    "prefix = 'predmod_data/asd_m_chat_f'\n",
    "model_name = 'SVM'\n",
    "model_dir = 'model/m_chat_f/svm'\n",
    "\n",
    "train_and_estimate_sample_size(f'{prefix}_train', models_and_params[model_name], model_dir, seed = seed)\n",
    "custom_precision = make_scorer(precision_score, zero_division=0)\n",
    "train_and_save_model(f'{prefix}_train', models_and_params[model_name], model_dir, scoring=custom_precision, seed = seed)\n",
    "\n",
    "output_type = 'probability'\n",
    "load_and_predict(prefix, 'train', output_type, model_dir)\n",
    "load_and_predict(prefix, 'validation', output_type, model_dir)\n",
    "load_and_predict(prefix, 'test', output_type, model_dir)\n",
    "compute_shap_values(f'{prefix}_train', explainers[model_name], model_dir)"
   ]
  },
  {
   "cell_type": "markdown",
   "id": "5641ba81-d1fd-4156-9ec1-bad1c0f8389c",
   "metadata": {},
   "source": [
    "### k-Nearest Neighbor"
   ]
  },
  {
   "cell_type": "code",
   "execution_count": 33,
   "id": "2e50a99b-50d0-4c87-aace-c4f3f13eea47",
   "metadata": {},
   "outputs": [
    {
     "name": "stderr",
     "output_type": "stream",
     "text": [
      "Using 301 background data samples could cause slower run times. Consider using shap.sample(data, K) or shap.kmeans(data, K) to summarize the background as K samples.\n"
     ]
    },
    {
     "name": "stdout",
     "output_type": "stream",
     "text": [
      "Results saved at inst/extdata/model/m_chat_f/knn/sample_size_estimation.csv\n",
      "Scaler saved at inst/extdata/model/m_chat_f/knn/scaler.joblib\n",
      "Model saved at inst/extdata/model/m_chat_f/knn/model.joblib\n",
      "Results saved at inst/extdata/model/m_chat_f/knn/train_prob.csv\n",
      "Results saved at inst/extdata/model/m_chat_f/knn/validation_prob.csv\n",
      "Results saved at inst/extdata/model/m_chat_f/knn/test_prob.csv\n"
     ]
    },
    {
     "name": "stderr",
     "output_type": "stream",
     "text": [
      "100%|█████████████████████████| 301/301 [40:10<00:00,  8.01s/it]"
     ]
    },
    {
     "name": "stdout",
     "output_type": "stream",
     "text": [
      "Results saved at inst/extdata/model/m_chat_f/knn/shap_values.csv\n"
     ]
    },
    {
     "name": "stderr",
     "output_type": "stream",
     "text": [
      "\n"
     ]
    }
   ],
   "source": [
    "prefix = 'predmod_data/asd_m_chat_f'\n",
    "model_name = 'KNN'\n",
    "model_dir = 'model/m_chat_f/knn'\n",
    "\n",
    "train_and_estimate_sample_size(f'{prefix}_train', models_and_params[model_name], model_dir, seed = seed)\n",
    "custom_precision = make_scorer(precision_score, zero_division=0)\n",
    "train_and_save_model(f'{prefix}_train', models_and_params[model_name], model_dir, scoring=custom_precision, seed = seed)\n",
    "\n",
    "output_type = 'probability'\n",
    "load_and_predict(prefix, 'train', output_type, model_dir)\n",
    "load_and_predict(prefix, 'validation', output_type, model_dir)\n",
    "load_and_predict(prefix, 'test', output_type, model_dir)\n",
    "compute_shap_values(f'{prefix}_train', explainers[model_name], model_dir)"
   ]
  },
  {
   "cell_type": "markdown",
   "id": "3ad36f74-8a40-4aa7-836a-c878b96f40de",
   "metadata": {},
   "source": [
    "### Decision Tree"
   ]
  },
  {
   "cell_type": "code",
   "execution_count": 34,
   "id": "8a4f2b68-d1e7-4f7b-a023-9dd8e1366963",
   "metadata": {},
   "outputs": [
    {
     "name": "stdout",
     "output_type": "stream",
     "text": [
      "Results saved at inst/extdata/model/m_chat_f/dt/sample_size_estimation.csv\n",
      "Scaler saved at inst/extdata/model/m_chat_f/dt/scaler.joblib\n",
      "Model saved at inst/extdata/model/m_chat_f/dt/model.joblib\n",
      "Results saved at inst/extdata/model/m_chat_f/dt/train_prob.csv\n",
      "Results saved at inst/extdata/model/m_chat_f/dt/validation_prob.csv\n",
      "Results saved at inst/extdata/model/m_chat_f/dt/test_prob.csv\n",
      "Results saved at inst/extdata/model/m_chat_f/dt/shap_values.csv\n"
     ]
    }
   ],
   "source": [
    "prefix = 'predmod_data/asd_m_chat_f'\n",
    "model_name = 'DecisionTree'\n",
    "model_dir = 'model/m_chat_f/dt'\n",
    "\n",
    "train_and_estimate_sample_size(f'{prefix}_train', models_and_params[model_name], model_dir, seed = seed)\n",
    "custom_precision = make_scorer(precision_score, zero_division=0)\n",
    "train_and_save_model(f'{prefix}_train', models_and_params[model_name], model_dir, scoring=custom_precision, seed = seed)\n",
    "\n",
    "output_type = 'probability'\n",
    "load_and_predict(prefix, 'train', output_type, model_dir)\n",
    "load_and_predict(prefix, 'validation', output_type, model_dir)\n",
    "load_and_predict(prefix, 'test', output_type, model_dir)\n",
    "compute_shap_values(f'{prefix}_train', explainers[model_name], model_dir)"
   ]
  },
  {
   "cell_type": "markdown",
   "id": "6ae99075-a5a5-4344-b054-8eb95f00ebe2",
   "metadata": {},
   "source": [
    "### Random Forest"
   ]
  },
  {
   "cell_type": "code",
   "execution_count": 35,
   "id": "c4638c10-8ab7-4d54-9ce2-63bbffcd76e5",
   "metadata": {},
   "outputs": [
    {
     "name": "stdout",
     "output_type": "stream",
     "text": [
      "Results saved at inst/extdata/model/m_chat_f/rf/sample_size_estimation.csv\n",
      "Scaler saved at inst/extdata/model/m_chat_f/rf/scaler.joblib\n",
      "Model saved at inst/extdata/model/m_chat_f/rf/model.joblib\n",
      "Results saved at inst/extdata/model/m_chat_f/rf/train_prob.csv\n",
      "Results saved at inst/extdata/model/m_chat_f/rf/validation_prob.csv\n",
      "Results saved at inst/extdata/model/m_chat_f/rf/test_prob.csv\n",
      "Results saved at inst/extdata/model/m_chat_f/rf/shap_values.csv\n"
     ]
    }
   ],
   "source": [
    "prefix = 'predmod_data/asd_m_chat_f'\n",
    "model_name = 'RandomForest'\n",
    "model_dir = 'model/m_chat_f/rf'\n",
    "\n",
    "train_and_estimate_sample_size(f'{prefix}_train', models_and_params[model_name], model_dir, seed = seed)\n",
    "custom_precision = make_scorer(precision_score, zero_division=0)\n",
    "train_and_save_model(f'{prefix}_train', models_and_params[model_name], model_dir, scoring=custom_precision, seed = seed)\n",
    "\n",
    "output_type = 'probability'\n",
    "load_and_predict(prefix, 'train', output_type, model_dir)\n",
    "load_and_predict(prefix, 'validation', output_type, model_dir)\n",
    "load_and_predict(prefix, 'test', output_type, model_dir)\n",
    "compute_shap_values(f'{prefix}_train', explainers[model_name], model_dir)"
   ]
  },
  {
   "cell_type": "markdown",
   "id": "927b1a39-d21e-4405-afcd-6a8a87d085d8",
   "metadata": {},
   "source": [
    "### Gradient Boosting Machine"
   ]
  },
  {
   "cell_type": "code",
   "execution_count": 36,
   "id": "d89c0467-11fb-4e45-b5d7-2f856832b37f",
   "metadata": {},
   "outputs": [
    {
     "name": "stdout",
     "output_type": "stream",
     "text": [
      "Results saved at inst/extdata/model/m_chat_f/gbm/sample_size_estimation.csv\n",
      "Scaler saved at inst/extdata/model/m_chat_f/gbm/scaler.joblib\n",
      "Model saved at inst/extdata/model/m_chat_f/gbm/model.joblib\n",
      "Results saved at inst/extdata/model/m_chat_f/gbm/train_prob.csv\n",
      "Results saved at inst/extdata/model/m_chat_f/gbm/validation_prob.csv\n",
      "Results saved at inst/extdata/model/m_chat_f/gbm/test_prob.csv\n",
      "Results saved at inst/extdata/model/m_chat_f/gbm/shap_values.csv\n"
     ]
    }
   ],
   "source": [
    "prefix = 'predmod_data/asd_m_chat_f'\n",
    "model_name = 'GradientBoosting'\n",
    "model_dir = 'model/m_chat_f/gbm'\n",
    "\n",
    "train_and_estimate_sample_size(f'{prefix}_train', models_and_params[model_name], model_dir, seed = seed)\n",
    "custom_precision = make_scorer(precision_score, zero_division=0)\n",
    "train_and_save_model(f'{prefix}_train', models_and_params[model_name], model_dir, scoring=custom_precision, seed = seed)\n",
    "\n",
    "output_type = 'probability'\n",
    "load_and_predict(prefix, 'train', output_type, model_dir)\n",
    "load_and_predict(prefix, 'validation', output_type, model_dir)\n",
    "load_and_predict(prefix, 'test', output_type, model_dir)\n",
    "compute_shap_values(f'{prefix}_train', explainers[model_name], model_dir)"
   ]
  },
  {
   "cell_type": "markdown",
   "id": "331b0afa-73e4-4589-8b45-688acce046fa",
   "metadata": {},
   "source": [
    "### Deep Neural Network"
   ]
  },
  {
   "cell_type": "code",
   "execution_count": null,
   "id": "3cb5b428-852e-4c89-81b5-b9901ddf5684",
   "metadata": {
    "scrolled": true
   },
   "outputs": [
    {
     "name": "stderr",
     "output_type": "stream",
     "text": [
      "/opt/conda/lib/python3.12/site-packages/sklearn/neural_network/_multilayer_perceptron.py:690: ConvergenceWarning: Stochastic Optimizer: Maximum iterations (5000) reached and the optimization hasn't converged yet.\n",
      "  warnings.warn(\n",
      "/opt/conda/lib/python3.12/site-packages/sklearn/neural_network/_multilayer_perceptron.py:690: ConvergenceWarning: Stochastic Optimizer: Maximum iterations (5000) reached and the optimization hasn't converged yet.\n",
      "  warnings.warn(\n",
      "/opt/conda/lib/python3.12/site-packages/sklearn/neural_network/_multilayer_perceptron.py:690: ConvergenceWarning: Stochastic Optimizer: Maximum iterations (5000) reached and the optimization hasn't converged yet.\n",
      "  warnings.warn(\n",
      "/opt/conda/lib/python3.12/site-packages/sklearn/neural_network/_multilayer_perceptron.py:690: ConvergenceWarning: Stochastic Optimizer: Maximum iterations (5000) reached and the optimization hasn't converged yet.\n",
      "  warnings.warn(\n",
      "/opt/conda/lib/python3.12/site-packages/sklearn/neural_network/_multilayer_perceptron.py:690: ConvergenceWarning: Stochastic Optimizer: Maximum iterations (5000) reached and the optimization hasn't converged yet.\n",
      "  warnings.warn(\n",
      "/opt/conda/lib/python3.12/site-packages/sklearn/neural_network/_multilayer_perceptron.py:690: ConvergenceWarning: Stochastic Optimizer: Maximum iterations (5000) reached and the optimization hasn't converged yet.\n",
      "  warnings.warn(\n",
      "/opt/conda/lib/python3.12/site-packages/sklearn/neural_network/_multilayer_perceptron.py:690: ConvergenceWarning: Stochastic Optimizer: Maximum iterations (5000) reached and the optimization hasn't converged yet.\n",
      "  warnings.warn(\n",
      "/opt/conda/lib/python3.12/site-packages/sklearn/neural_network/_multilayer_perceptron.py:690: ConvergenceWarning: Stochastic Optimizer: Maximum iterations (5000) reached and the optimization hasn't converged yet.\n",
      "  warnings.warn(\n",
      "/opt/conda/lib/python3.12/site-packages/sklearn/neural_network/_multilayer_perceptron.py:690: ConvergenceWarning: Stochastic Optimizer: Maximum iterations (5000) reached and the optimization hasn't converged yet.\n",
      "  warnings.warn(\n",
      "/opt/conda/lib/python3.12/site-packages/sklearn/neural_network/_multilayer_perceptron.py:690: ConvergenceWarning: Stochastic Optimizer: Maximum iterations (5000) reached and the optimization hasn't converged yet.\n",
      "  warnings.warn(\n",
      "/opt/conda/lib/python3.12/site-packages/sklearn/neural_network/_multilayer_perceptron.py:690: ConvergenceWarning: Stochastic Optimizer: Maximum iterations (5000) reached and the optimization hasn't converged yet.\n",
      "  warnings.warn(\n",
      "/opt/conda/lib/python3.12/site-packages/sklearn/neural_network/_multilayer_perceptron.py:690: ConvergenceWarning: Stochastic Optimizer: Maximum iterations (5000) reached and the optimization hasn't converged yet.\n",
      "  warnings.warn(\n",
      "/opt/conda/lib/python3.12/site-packages/sklearn/neural_network/_multilayer_perceptron.py:690: ConvergenceWarning: Stochastic Optimizer: Maximum iterations (5000) reached and the optimization hasn't converged yet.\n",
      "  warnings.warn(\n",
      "/opt/conda/lib/python3.12/site-packages/sklearn/neural_network/_multilayer_perceptron.py:690: ConvergenceWarning: Stochastic Optimizer: Maximum iterations (5000) reached and the optimization hasn't converged yet.\n",
      "  warnings.warn(\n",
      "/opt/conda/lib/python3.12/site-packages/sklearn/neural_network/_multilayer_perceptron.py:690: ConvergenceWarning: Stochastic Optimizer: Maximum iterations (5000) reached and the optimization hasn't converged yet.\n",
      "  warnings.warn(\n",
      "Stochastic Optimizer: Maximum iterations (5000) reached and the optimization hasn't converged yet.\n",
      "/opt/conda/lib/python3.12/site-packages/sklearn/neural_network/_multilayer_perceptron.py:690: ConvergenceWarning: Stochastic Optimizer: Maximum iterations (5000) reached and the optimization hasn't converged yet.\n",
      "  warnings.warn(\n",
      "/opt/conda/lib/python3.12/site-packages/sklearn/neural_network/_multilayer_perceptron.py:690: ConvergenceWarning: Stochastic Optimizer: Maximum iterations (5000) reached and the optimization hasn't converged yet.\n",
      "  warnings.warn(\n",
      "/opt/conda/lib/python3.12/site-packages/sklearn/neural_network/_multilayer_perceptron.py:690: ConvergenceWarning: Stochastic Optimizer: Maximum iterations (5000) reached and the optimization hasn't converged yet.\n",
      "  warnings.warn(\n",
      "/opt/conda/lib/python3.12/site-packages/sklearn/neural_network/_multilayer_perceptron.py:690: ConvergenceWarning: Stochastic Optimizer: Maximum iterations (5000) reached and the optimization hasn't converged yet.\n",
      "  warnings.warn(\n",
      "/opt/conda/lib/python3.12/site-packages/sklearn/neural_network/_multilayer_perceptron.py:690: ConvergenceWarning: Stochastic Optimizer: Maximum iterations (5000) reached and the optimization hasn't converged yet.\n",
      "  warnings.warn(\n",
      "Stochastic Optimizer: Maximum iterations (5000) reached and the optimization hasn't converged yet.\n"
     ]
    },
    {
     "name": "stdout",
     "output_type": "stream",
     "text": [
      "Results saved at inst/extdata/model/m_chat_f/dnn/sample_size_estimation.csv\n",
      "Scaler saved at inst/extdata/model/m_chat_f/dnn/scaler.joblib\n"
     ]
    },
    {
     "name": "stderr",
     "output_type": "stream",
     "text": [
      "Using 301 background data samples could cause slower run times. Consider using shap.sample(data, K) or shap.kmeans(data, K) to summarize the background as K samples.\n"
     ]
    },
    {
     "name": "stdout",
     "output_type": "stream",
     "text": [
      "Model saved at inst/extdata/model/m_chat_f/dnn/model.joblib\n",
      "Results saved at inst/extdata/model/m_chat_f/dnn/train_prob.csv\n",
      "Results saved at inst/extdata/model/m_chat_f/dnn/validation_prob.csv\n",
      "Results saved at inst/extdata/model/m_chat_f/dnn/test_prob.csv\n"
     ]
    },
    {
     "name": "stderr",
     "output_type": "stream",
     "text": [
      " 63%|███████████████▊         | 190/301 [02:34<01:25,  1.29it/s]"
     ]
    }
   ],
   "source": [
    "prefix = 'predmod_data/asd_m_chat_f'\n",
    "model_name = 'DeepNeuralNetwork'\n",
    "model_dir = 'model/m_chat_f/dnn'\n",
    "\n",
    "train_and_estimate_sample_size(f'{prefix}_train', models_and_params[model_name], model_dir, seed = seed)\n",
    "custom_precision = make_scorer(precision_score, zero_division=0)\n",
    "train_and_save_model(f'{prefix}_train', models_and_params[model_name], model_dir, scoring=custom_precision, seed = seed)\n",
    "\n",
    "output_type = 'probability'\n",
    "load_and_predict(prefix, 'train', output_type, model_dir)\n",
    "load_and_predict(prefix, 'validation', output_type, model_dir)\n",
    "load_and_predict(prefix, 'test', output_type, model_dir)\n",
    "compute_shap_values(f'{prefix}_train', explainers[model_name], model_dir)"
   ]
  },
  {
   "cell_type": "markdown",
   "id": "95e93748-6fba-472d-b488-fedce8a375a5",
   "metadata": {},
   "source": [
    "## M-CHAT-R/F"
   ]
  },
  {
   "cell_type": "markdown",
   "id": "6b975ad7-e059-4efe-85d7-fe8fe1f780cf",
   "metadata": {},
   "source": [
    "### Ridge Regression"
   ]
  },
  {
   "cell_type": "code",
   "execution_count": 6,
   "id": "c140ec7d-a1c4-401d-9634-80b82e394abe",
   "metadata": {},
   "outputs": [
    {
     "name": "stdout",
     "output_type": "stream",
     "text": [
      "Results saved at inst/extdata/model/m_chat_r2f/rr/sample_size_estimation.csv\n",
      "Scaler saved at inst/extdata/model/m_chat_r2f/rr/scaler.joblib\n",
      "Model saved at inst/extdata/model/m_chat_r2f/rr/model.joblib\n",
      "Results saved at inst/extdata/model/m_chat_r2f/rr/train_prob.csv\n",
      "Results saved at inst/extdata/model/m_chat_r2f/rr/validation_prob.csv\n",
      "Results saved at inst/extdata/model/m_chat_r2f/rr/test_prob.csv\n",
      "Results saved at inst/extdata/model/m_chat_r2f/rr/shap_values.csv\n"
     ]
    }
   ],
   "source": [
    "prefix = 'predmod_data/asd_m_chat_r2f'\n",
    "model_name = 'LogisticRegression'\n",
    "model_dir = 'model/m_chat_r2f/rr'\n",
    "\n",
    "train_and_estimate_sample_size(f'{prefix}_train', models_and_params[model_name], model_dir, seed = seed)\n",
    "custom_precision = make_scorer(precision_score, zero_division=0)\n",
    "train_and_save_model(f'{prefix}_train', models_and_params[model_name], model_dir, scoring=custom_precision, seed = seed)\n",
    "\n",
    "output_type = 'probability'\n",
    "load_and_predict(prefix, 'train', output_type, model_dir)\n",
    "load_and_predict(prefix, 'validation', output_type, model_dir)\n",
    "load_and_predict(prefix, 'test', output_type, model_dir)\n",
    "compute_shap_values(f'{prefix}_train', explainers[model_name], model_dir)"
   ]
  },
  {
   "cell_type": "markdown",
   "id": "a18281e1-4194-4f72-8691-425bd2678f9a",
   "metadata": {},
   "source": [
    "### Naive Bayes"
   ]
  },
  {
   "cell_type": "code",
   "execution_count": 7,
   "id": "d7abef1c-4066-42e5-b758-bd289816ec73",
   "metadata": {},
   "outputs": [
    {
     "name": "stderr",
     "output_type": "stream",
     "text": [
      "Using 301 background data samples could cause slower run times. Consider using shap.sample(data, K) or shap.kmeans(data, K) to summarize the background as K samples.\n"
     ]
    },
    {
     "name": "stdout",
     "output_type": "stream",
     "text": [
      "Results saved at inst/extdata/model/m_chat_r2f/nb/sample_size_estimation.csv\n",
      "Scaler saved at inst/extdata/model/m_chat_r2f/nb/scaler.joblib\n",
      "Model saved at inst/extdata/model/m_chat_r2f/nb/model.joblib\n",
      "Results saved at inst/extdata/model/m_chat_r2f/nb/train_prob.csv\n",
      "Results saved at inst/extdata/model/m_chat_r2f/nb/validation_prob.csv\n",
      "Results saved at inst/extdata/model/m_chat_r2f/nb/test_prob.csv\n"
     ]
    },
    {
     "name": "stderr",
     "output_type": "stream",
     "text": [
      "100%|███████████| 301/301 [04:25<00:00,  1.13it/s]"
     ]
    },
    {
     "name": "stdout",
     "output_type": "stream",
     "text": [
      "Results saved at inst/extdata/model/m_chat_r2f/nb/shap_values.csv\n"
     ]
    },
    {
     "name": "stderr",
     "output_type": "stream",
     "text": [
      "\n"
     ]
    }
   ],
   "source": [
    "prefix = 'predmod_data/asd_m_chat_r2f'\n",
    "model_name = 'NaiveBayes'\n",
    "model_dir = 'model/m_chat_r2f/nb'\n",
    "\n",
    "train_and_estimate_sample_size(f'{prefix}_train', models_and_params[model_name], model_dir, seed = seed)\n",
    "custom_precision = make_scorer(precision_score, zero_division=0)\n",
    "train_and_save_model(f'{prefix}_train', models_and_params[model_name], model_dir, scoring=custom_precision, seed = seed)\n",
    "\n",
    "output_type = 'probability'\n",
    "load_and_predict(prefix, 'train', output_type, model_dir)\n",
    "load_and_predict(prefix, 'validation', output_type, model_dir)\n",
    "load_and_predict(prefix, 'test', output_type, model_dir)\n",
    "compute_shap_values(f'{prefix}_train', explainers[model_name], model_dir)"
   ]
  },
  {
   "cell_type": "markdown",
   "id": "458b84be-304d-4ae4-8866-881528cb172b",
   "metadata": {},
   "source": [
    "### Support Vector Machine"
   ]
  },
  {
   "cell_type": "code",
   "execution_count": 8,
   "id": "ce2ca0c4-c9e7-44c5-b506-8bc70268c64c",
   "metadata": {},
   "outputs": [
    {
     "name": "stdout",
     "output_type": "stream",
     "text": [
      "Results saved at inst/extdata/model/m_chat_r2f/svm/sample_size_estimation.csv\n",
      "Scaler saved at inst/extdata/model/m_chat_r2f/svm/scaler.joblib\n"
     ]
    },
    {
     "name": "stderr",
     "output_type": "stream",
     "text": [
      "Using 301 background data samples could cause slower run times. Consider using shap.sample(data, K) or shap.kmeans(data, K) to summarize the background as K samples.\n"
     ]
    },
    {
     "name": "stdout",
     "output_type": "stream",
     "text": [
      "Model saved at inst/extdata/model/m_chat_r2f/svm/model.joblib\n",
      "Results saved at inst/extdata/model/m_chat_r2f/svm/train_prob.csv\n",
      "Results saved at inst/extdata/model/m_chat_r2f/svm/validation_prob.csv\n",
      "Results saved at inst/extdata/model/m_chat_r2f/svm/test_prob.csv\n"
     ]
    },
    {
     "name": "stderr",
     "output_type": "stream",
     "text": [
      "100%|███████████| 301/301 [05:48<00:00,  1.16s/it]"
     ]
    },
    {
     "name": "stdout",
     "output_type": "stream",
     "text": [
      "Results saved at inst/extdata/model/m_chat_r2f/svm/shap_values.csv\n"
     ]
    },
    {
     "name": "stderr",
     "output_type": "stream",
     "text": [
      "\n"
     ]
    }
   ],
   "source": [
    "prefix = 'predmod_data/asd_m_chat_r2f'\n",
    "model_name = 'SVM'\n",
    "model_dir = 'model/m_chat_r2f/svm'\n",
    "\n",
    "train_and_estimate_sample_size(f'{prefix}_train', models_and_params[model_name], model_dir, seed = seed)\n",
    "custom_precision = make_scorer(precision_score, zero_division=0)\n",
    "train_and_save_model(f'{prefix}_train', models_and_params[model_name], model_dir, scoring=custom_precision, seed = seed)\n",
    "\n",
    "output_type = 'probability'\n",
    "load_and_predict(prefix, 'train', output_type, model_dir)\n",
    "load_and_predict(prefix, 'validation', output_type, model_dir)\n",
    "load_and_predict(prefix, 'test', output_type, model_dir)\n",
    "compute_shap_values(f'{prefix}_train', explainers[model_name], model_dir)"
   ]
  },
  {
   "cell_type": "markdown",
   "id": "233669f0-50db-41d9-9e9e-7a38ee8d539e",
   "metadata": {},
   "source": [
    "### k-Nearest Neighbor"
   ]
  },
  {
   "cell_type": "code",
   "execution_count": 9,
   "id": "7585509a-8ec0-4fb2-83b8-08b0d6619841",
   "metadata": {},
   "outputs": [
    {
     "name": "stderr",
     "output_type": "stream",
     "text": [
      "Using 301 background data samples could cause slower run times. Consider using shap.sample(data, K) or shap.kmeans(data, K) to summarize the background as K samples.\n"
     ]
    },
    {
     "name": "stdout",
     "output_type": "stream",
     "text": [
      "Results saved at inst/extdata/model/m_chat_r2f/knn/sample_size_estimation.csv\n",
      "Scaler saved at inst/extdata/model/m_chat_r2f/knn/scaler.joblib\n",
      "Model saved at inst/extdata/model/m_chat_r2f/knn/model.joblib\n",
      "Results saved at inst/extdata/model/m_chat_r2f/knn/train_prob.csv\n",
      "Results saved at inst/extdata/model/m_chat_r2f/knn/validation_prob.csv\n",
      "Results saved at inst/extdata/model/m_chat_r2f/knn/test_prob.csv\n"
     ]
    },
    {
     "name": "stderr",
     "output_type": "stream",
     "text": [
      "100%|███████████| 301/301 [12:30<00:00,  2.49s/it]"
     ]
    },
    {
     "name": "stdout",
     "output_type": "stream",
     "text": [
      "Results saved at inst/extdata/model/m_chat_r2f/knn/shap_values.csv\n"
     ]
    },
    {
     "name": "stderr",
     "output_type": "stream",
     "text": [
      "\n"
     ]
    }
   ],
   "source": [
    "prefix = 'predmod_data/asd_m_chat_r2f'\n",
    "model_name = 'KNN'\n",
    "model_dir = 'model/m_chat_r2f/knn'\n",
    "\n",
    "train_and_estimate_sample_size(f'{prefix}_train', models_and_params[model_name], model_dir, seed = seed)\n",
    "custom_precision = make_scorer(precision_score, zero_division=0)\n",
    "train_and_save_model(f'{prefix}_train', models_and_params[model_name], model_dir, scoring=custom_precision, seed = seed)\n",
    "\n",
    "output_type = 'probability'\n",
    "load_and_predict(prefix, 'train', output_type, model_dir)\n",
    "load_and_predict(prefix, 'validation', output_type, model_dir)\n",
    "load_and_predict(prefix, 'test', output_type, model_dir)\n",
    "compute_shap_values(f'{prefix}_train', explainers[model_name], model_dir)"
   ]
  },
  {
   "cell_type": "markdown",
   "id": "0854a42a-da33-4611-84bc-31949da356ed",
   "metadata": {},
   "source": [
    "### Decision Tree"
   ]
  },
  {
   "cell_type": "code",
   "execution_count": 10,
   "id": "b69cd624-9d96-4593-8130-f4291259fb61",
   "metadata": {},
   "outputs": [
    {
     "name": "stdout",
     "output_type": "stream",
     "text": [
      "Results saved at inst/extdata/model/m_chat_r2f/dt/sample_size_estimation.csv\n",
      "Scaler saved at inst/extdata/model/m_chat_r2f/dt/scaler.joblib\n",
      "Model saved at inst/extdata/model/m_chat_r2f/dt/model.joblib\n",
      "Results saved at inst/extdata/model/m_chat_r2f/dt/train_prob.csv\n",
      "Results saved at inst/extdata/model/m_chat_r2f/dt/validation_prob.csv\n",
      "Results saved at inst/extdata/model/m_chat_r2f/dt/test_prob.csv\n",
      "Results saved at inst/extdata/model/m_chat_r2f/dt/shap_values.csv\n"
     ]
    }
   ],
   "source": [
    "prefix = 'predmod_data/asd_m_chat_r2f'\n",
    "model_name = 'DecisionTree'\n",
    "model_dir = 'model/m_chat_r2f/dt'\n",
    "\n",
    "train_and_estimate_sample_size(f'{prefix}_train', models_and_params[model_name], model_dir, seed = seed)\n",
    "custom_precision = make_scorer(precision_score, zero_division=0)\n",
    "train_and_save_model(f'{prefix}_train', models_and_params[model_name], model_dir, scoring=custom_precision, seed = seed)\n",
    "\n",
    "output_type = 'probability'\n",
    "load_and_predict(prefix, 'train', output_type, model_dir)\n",
    "load_and_predict(prefix, 'validation', output_type, model_dir)\n",
    "load_and_predict(prefix, 'test', output_type, model_dir)\n",
    "compute_shap_values(f'{prefix}_train', explainers[model_name], model_dir)"
   ]
  },
  {
   "cell_type": "markdown",
   "id": "d66bd2cd-cdfc-4856-9926-0d83bab7957b",
   "metadata": {},
   "source": [
    "### Random Forest"
   ]
  },
  {
   "cell_type": "code",
   "execution_count": 11,
   "id": "e0cffba0-10fb-42e2-9f97-bc4464ba6921",
   "metadata": {},
   "outputs": [
    {
     "name": "stdout",
     "output_type": "stream",
     "text": [
      "Results saved at inst/extdata/model/m_chat_r2f/rf/sample_size_estimation.csv\n",
      "Scaler saved at inst/extdata/model/m_chat_r2f/rf/scaler.joblib\n",
      "Model saved at inst/extdata/model/m_chat_r2f/rf/model.joblib\n",
      "Results saved at inst/extdata/model/m_chat_r2f/rf/train_prob.csv\n",
      "Results saved at inst/extdata/model/m_chat_r2f/rf/validation_prob.csv\n",
      "Results saved at inst/extdata/model/m_chat_r2f/rf/test_prob.csv\n",
      "Results saved at inst/extdata/model/m_chat_r2f/rf/shap_values.csv\n"
     ]
    }
   ],
   "source": [
    "prefix = 'predmod_data/asd_m_chat_r2f'\n",
    "model_name = 'RandomForest'\n",
    "model_dir = 'model/m_chat_r2f/rf'\n",
    "\n",
    "train_and_estimate_sample_size(f'{prefix}_train', models_and_params[model_name], model_dir, seed = seed)\n",
    "custom_precision = make_scorer(precision_score, zero_division=0)\n",
    "train_and_save_model(f'{prefix}_train', models_and_params[model_name], model_dir, scoring=custom_precision, seed = seed)\n",
    "\n",
    "output_type = 'probability'\n",
    "load_and_predict(prefix, 'train', output_type, model_dir)\n",
    "load_and_predict(prefix, 'validation', output_type, model_dir)\n",
    "load_and_predict(prefix, 'test', output_type, model_dir)\n",
    "compute_shap_values(f'{prefix}_train', explainers[model_name], model_dir)"
   ]
  },
  {
   "cell_type": "markdown",
   "id": "1d0a617d-d06b-4f77-9314-5e87ed69a3ed",
   "metadata": {},
   "source": [
    "### Gradient Boosting Machine"
   ]
  },
  {
   "cell_type": "code",
   "execution_count": 12,
   "id": "291e60b3-a524-4d66-b91b-5ef88e8876dd",
   "metadata": {},
   "outputs": [
    {
     "name": "stdout",
     "output_type": "stream",
     "text": [
      "Results saved at inst/extdata/model/m_chat_r2f/gbm/sample_size_estimation.csv\n",
      "Scaler saved at inst/extdata/model/m_chat_r2f/gbm/scaler.joblib\n",
      "Model saved at inst/extdata/model/m_chat_r2f/gbm/model.joblib\n",
      "Results saved at inst/extdata/model/m_chat_r2f/gbm/train_prob.csv\n",
      "Results saved at inst/extdata/model/m_chat_r2f/gbm/validation_prob.csv\n",
      "Results saved at inst/extdata/model/m_chat_r2f/gbm/test_prob.csv\n",
      "Results saved at inst/extdata/model/m_chat_r2f/gbm/shap_values.csv\n"
     ]
    }
   ],
   "source": [
    "prefix = 'predmod_data/asd_m_chat_r2f'\n",
    "model_name = 'GradientBoosting'\n",
    "model_dir = 'model/m_chat_r2f/gbm'\n",
    "\n",
    "train_and_estimate_sample_size(f'{prefix}_train', models_and_params[model_name], model_dir, seed = seed)\n",
    "custom_precision = make_scorer(precision_score, zero_division=0)\n",
    "train_and_save_model(f'{prefix}_train', models_and_params[model_name], model_dir, scoring=custom_precision, seed = seed)\n",
    "\n",
    "output_type = 'probability'\n",
    "load_and_predict(prefix, 'train', output_type, model_dir)\n",
    "load_and_predict(prefix, 'validation', output_type, model_dir)\n",
    "load_and_predict(prefix, 'test', output_type, model_dir)\n",
    "compute_shap_values(f'{prefix}_train', explainers[model_name], model_dir)"
   ]
  },
  {
   "cell_type": "markdown",
   "id": "add7d221-c9dc-45ab-8ec3-fe52464c5b81",
   "metadata": {},
   "source": [
    "### Deep Neural Network"
   ]
  },
  {
   "cell_type": "code",
   "execution_count": 13,
   "id": "5f3d6eb9-4590-44ef-8e7b-9a47114a2976",
   "metadata": {
    "scrolled": true
   },
   "outputs": [
    {
     "name": "stderr",
     "output_type": "stream",
     "text": [
      "/opt/conda/lib/python3.12/site-packages/sklearn/neural_network/_multilayer_perceptron.py:690: ConvergenceWarning: Stochastic Optimizer: Maximum iterations (5000) reached and the optimization hasn't converged yet.\n",
      "  warnings.warn(\n",
      "/opt/conda/lib/python3.12/site-packages/sklearn/neural_network/_multilayer_perceptron.py:690: ConvergenceWarning: Stochastic Optimizer: Maximum iterations (5000) reached and the optimization hasn't converged yet.\n",
      "  warnings.warn(\n",
      "/opt/conda/lib/python3.12/site-packages/sklearn/neural_network/_multilayer_perceptron.py:690: ConvergenceWarning: Stochastic Optimizer: Maximum iterations (5000) reached and the optimization hasn't converged yet.\n",
      "  warnings.warn(\n",
      "/opt/conda/lib/python3.12/site-packages/sklearn/neural_network/_multilayer_perceptron.py:690: ConvergenceWarning: Stochastic Optimizer: Maximum iterations (5000) reached and the optimization hasn't converged yet.\n",
      "  warnings.warn(\n",
      "/opt/conda/lib/python3.12/site-packages/sklearn/neural_network/_multilayer_perceptron.py:690: ConvergenceWarning: Stochastic Optimizer: Maximum iterations (5000) reached and the optimization hasn't converged yet.\n",
      "  warnings.warn(\n",
      "/opt/conda/lib/python3.12/site-packages/sklearn/neural_network/_multilayer_perceptron.py:690: ConvergenceWarning: Stochastic Optimizer: Maximum iterations (5000) reached and the optimization hasn't converged yet.\n",
      "  warnings.warn(\n",
      "/opt/conda/lib/python3.12/site-packages/sklearn/neural_network/_multilayer_perceptron.py:690: ConvergenceWarning: Stochastic Optimizer: Maximum iterations (5000) reached and the optimization hasn't converged yet.\n",
      "  warnings.warn(\n",
      "/opt/conda/lib/python3.12/site-packages/sklearn/neural_network/_multilayer_perceptron.py:690: ConvergenceWarning: Stochastic Optimizer: Maximum iterations (5000) reached and the optimization hasn't converged yet.\n",
      "  warnings.warn(\n",
      "/opt/conda/lib/python3.12/site-packages/sklearn/neural_network/_multilayer_perceptron.py:690: ConvergenceWarning: Stochastic Optimizer: Maximum iterations (5000) reached and the optimization hasn't converged yet.\n",
      "  warnings.warn(\n",
      "/opt/conda/lib/python3.12/site-packages/sklearn/neural_network/_multilayer_perceptron.py:690: ConvergenceWarning: Stochastic Optimizer: Maximum iterations (5000) reached and the optimization hasn't converged yet.\n",
      "  warnings.warn(\n",
      "/opt/conda/lib/python3.12/site-packages/sklearn/neural_network/_multilayer_perceptron.py:690: ConvergenceWarning: Stochastic Optimizer: Maximum iterations (5000) reached and the optimization hasn't converged yet.\n",
      "  warnings.warn(\n",
      "/opt/conda/lib/python3.12/site-packages/sklearn/neural_network/_multilayer_perceptron.py:690: ConvergenceWarning: Stochastic Optimizer: Maximum iterations (5000) reached and the optimization hasn't converged yet.\n",
      "  warnings.warn(\n",
      "/opt/conda/lib/python3.12/site-packages/sklearn/neural_network/_multilayer_perceptron.py:690: ConvergenceWarning: Stochastic Optimizer: Maximum iterations (5000) reached and the optimization hasn't converged yet.\n",
      "  warnings.warn(\n",
      "/opt/conda/lib/python3.12/site-packages/sklearn/neural_network/_multilayer_perceptron.py:690: ConvergenceWarning: Stochastic Optimizer: Maximum iterations (5000) reached and the optimization hasn't converged yet.\n",
      "  warnings.warn(\n",
      "/opt/conda/lib/python3.12/site-packages/sklearn/neural_network/_multilayer_perceptron.py:690: ConvergenceWarning: Stochastic Optimizer: Maximum iterations (5000) reached and the optimization hasn't converged yet.\n",
      "  warnings.warn(\n",
      "/opt/conda/lib/python3.12/site-packages/sklearn/neural_network/_multilayer_perceptron.py:690: ConvergenceWarning: Stochastic Optimizer: Maximum iterations (5000) reached and the optimization hasn't converged yet.\n",
      "  warnings.warn(\n",
      "/opt/conda/lib/python3.12/site-packages/sklearn/neural_network/_multilayer_perceptron.py:690: ConvergenceWarning: Stochastic Optimizer: Maximum iterations (5000) reached and the optimization hasn't converged yet.\n",
      "  warnings.warn(\n",
      "/opt/conda/lib/python3.12/site-packages/sklearn/neural_network/_multilayer_perceptron.py:690: ConvergenceWarning: Stochastic Optimizer: Maximum iterations (5000) reached and the optimization hasn't converged yet.\n",
      "  warnings.warn(\n",
      "/opt/conda/lib/python3.12/site-packages/sklearn/neural_network/_multilayer_perceptron.py:690: ConvergenceWarning: Stochastic Optimizer: Maximum iterations (5000) reached and the optimization hasn't converged yet.\n",
      "  warnings.warn(\n",
      "/opt/conda/lib/python3.12/site-packages/sklearn/neural_network/_multilayer_perceptron.py:690: ConvergenceWarning: Stochastic Optimizer: Maximum iterations (5000) reached and the optimization hasn't converged yet.\n",
      "  warnings.warn(\n"
     ]
    },
    {
     "name": "stdout",
     "output_type": "stream",
     "text": [
      "Results saved at inst/extdata/model/m_chat_r2f/dnn/sample_size_estimation.csv\n",
      "Scaler saved at inst/extdata/model/m_chat_r2f/dnn/scaler.joblib\n"
     ]
    },
    {
     "name": "stderr",
     "output_type": "stream",
     "text": [
      "Using 301 background data samples could cause slower run times. Consider using shap.sample(data, K) or shap.kmeans(data, K) to summarize the background as K samples.\n"
     ]
    },
    {
     "name": "stdout",
     "output_type": "stream",
     "text": [
      "Model saved at inst/extdata/model/m_chat_r2f/dnn/model.joblib\n",
      "Results saved at inst/extdata/model/m_chat_r2f/dnn/train_prob.csv\n",
      "Results saved at inst/extdata/model/m_chat_r2f/dnn/validation_prob.csv\n",
      "Results saved at inst/extdata/model/m_chat_r2f/dnn/test_prob.csv\n"
     ]
    },
    {
     "name": "stderr",
     "output_type": "stream",
     "text": [
      "100%|███████████| 301/301 [06:22<00:00,  1.27s/it]"
     ]
    },
    {
     "name": "stdout",
     "output_type": "stream",
     "text": [
      "Results saved at inst/extdata/model/m_chat_r2f/dnn/shap_values.csv\n"
     ]
    },
    {
     "name": "stderr",
     "output_type": "stream",
     "text": [
      "\n"
     ]
    }
   ],
   "source": [
    "prefix = 'predmod_data/asd_m_chat_r2f'\n",
    "model_name = 'DeepNeuralNetwork'\n",
    "model_dir = 'model/m_chat_r2f/dnn'\n",
    "\n",
    "train_and_estimate_sample_size(f'{prefix}_train', models_and_params[model_name], model_dir, seed = seed)\n",
    "custom_precision = make_scorer(precision_score, zero_division=0)\n",
    "train_and_save_model(f'{prefix}_train', models_and_params[model_name], model_dir, scoring=custom_precision, seed = seed)\n",
    "\n",
    "output_type = 'probability'\n",
    "load_and_predict(prefix, 'train', output_type, model_dir)\n",
    "load_and_predict(prefix, 'validation', output_type, model_dir)\n",
    "load_and_predict(prefix, 'test', output_type, model_dir)\n",
    "compute_shap_values(f'{prefix}_train', explainers[model_name], model_dir)"
   ]
  },
  {
   "cell_type": "markdown",
   "id": "9d7fc838-5bd4-4d1d-b09e-7d88e376f079",
   "metadata": {},
   "source": [
    "## M-CHAT-RF"
   ]
  },
  {
   "cell_type": "markdown",
   "id": "c7b29505-f17e-4c15-bc1a-bf689ab6b709",
   "metadata": {},
   "source": [
    "### Ridge Regression"
   ]
  },
  {
   "cell_type": "code",
   "execution_count": 14,
   "id": "403c96da-064c-49bf-9020-99eb83e5e97d",
   "metadata": {},
   "outputs": [
    {
     "name": "stdout",
     "output_type": "stream",
     "text": [
      "Results saved at inst/extdata/model/m_chat_rf/rr/sample_size_estimation.csv\n",
      "Scaler saved at inst/extdata/model/m_chat_rf/rr/scaler.joblib\n",
      "Model saved at inst/extdata/model/m_chat_rf/rr/model.joblib\n",
      "Results saved at inst/extdata/model/m_chat_rf/rr/train_prob.csv\n",
      "Results saved at inst/extdata/model/m_chat_rf/rr/validation_prob.csv\n",
      "Results saved at inst/extdata/model/m_chat_rf/rr/test_prob.csv\n",
      "Results saved at inst/extdata/model/m_chat_rf/rr/shap_values.csv\n"
     ]
    }
   ],
   "source": [
    "prefix = 'predmod_data/asd_m_chat_rf'\n",
    "model_name = 'LogisticRegression'\n",
    "model_dir = 'model/m_chat_rf/rr'\n",
    "\n",
    "train_and_estimate_sample_size(f'{prefix}_train', models_and_params[model_name], model_dir, seed = seed)\n",
    "custom_precision = make_scorer(precision_score, zero_division=0)\n",
    "train_and_save_model(f'{prefix}_train', models_and_params[model_name], model_dir, scoring=custom_precision, seed = seed)\n",
    "\n",
    "output_type = 'probability'\n",
    "load_and_predict(prefix, 'train', output_type, model_dir)\n",
    "load_and_predict(prefix, 'validation', output_type, model_dir)\n",
    "load_and_predict(prefix, 'test', output_type, model_dir)\n",
    "compute_shap_values(f'{prefix}_train', explainers[model_name], model_dir)"
   ]
  },
  {
   "cell_type": "markdown",
   "id": "bdebbf46-bb0a-4044-8ec9-ccae4ac9ff59",
   "metadata": {},
   "source": [
    "### Naive Bayes"
   ]
  },
  {
   "cell_type": "code",
   "execution_count": 15,
   "id": "d57f18f6-2964-48ec-9299-b0a59c33d785",
   "metadata": {},
   "outputs": [
    {
     "name": "stdout",
     "output_type": "stream",
     "text": [
      "Results saved at inst/extdata/model/m_chat_rf/nb/sample_size_estimation.csv\n",
      "Scaler saved at inst/extdata/model/m_chat_rf/nb/scaler.joblib\n",
      "Model saved at inst/extdata/model/m_chat_rf/nb/model.joblib\n"
     ]
    },
    {
     "name": "stderr",
     "output_type": "stream",
     "text": [
      "Using 301 background data samples could cause slower run times. Consider using shap.sample(data, K) or shap.kmeans(data, K) to summarize the background as K samples.\n"
     ]
    },
    {
     "name": "stdout",
     "output_type": "stream",
     "text": [
      "Results saved at inst/extdata/model/m_chat_rf/nb/train_prob.csv\n",
      "Results saved at inst/extdata/model/m_chat_rf/nb/validation_prob.csv\n",
      "Results saved at inst/extdata/model/m_chat_rf/nb/test_prob.csv\n"
     ]
    },
    {
     "name": "stderr",
     "output_type": "stream",
     "text": [
      "100%|███████████| 301/301 [07:49<00:00,  1.56s/it]"
     ]
    },
    {
     "name": "stdout",
     "output_type": "stream",
     "text": [
      "Results saved at inst/extdata/model/m_chat_rf/nb/shap_values.csv\n"
     ]
    },
    {
     "name": "stderr",
     "output_type": "stream",
     "text": [
      "\n"
     ]
    }
   ],
   "source": [
    "prefix = 'predmod_data/asd_m_chat_rf'\n",
    "model_name = 'NaiveBayes'\n",
    "model_dir = 'model/m_chat_rf/nb'\n",
    "\n",
    "train_and_estimate_sample_size(f'{prefix}_train', models_and_params[model_name], model_dir, seed = seed)\n",
    "custom_precision = make_scorer(precision_score, zero_division=0)\n",
    "train_and_save_model(f'{prefix}_train', models_and_params[model_name], model_dir, scoring=custom_precision, seed = seed)\n",
    "\n",
    "output_type = 'probability'\n",
    "load_and_predict(prefix, 'train', output_type, model_dir)\n",
    "load_and_predict(prefix, 'validation', output_type, model_dir)\n",
    "load_and_predict(prefix, 'test', output_type, model_dir)\n",
    "compute_shap_values(f'{prefix}_train', explainers[model_name], model_dir)"
   ]
  },
  {
   "cell_type": "markdown",
   "id": "8e7faa9f-1dec-4273-ae05-7ba6fa5413bd",
   "metadata": {},
   "source": [
    "### Support Vector Machine"
   ]
  },
  {
   "cell_type": "code",
   "execution_count": 16,
   "id": "feb3ace8-d5a7-41aa-b314-9da748a8ffbe",
   "metadata": {},
   "outputs": [
    {
     "name": "stdout",
     "output_type": "stream",
     "text": [
      "Results saved at inst/extdata/model/m_chat_rf/svm/sample_size_estimation.csv\n",
      "Scaler saved at inst/extdata/model/m_chat_rf/svm/scaler.joblib\n"
     ]
    },
    {
     "name": "stderr",
     "output_type": "stream",
     "text": [
      "Using 301 background data samples could cause slower run times. Consider using shap.sample(data, K) or shap.kmeans(data, K) to summarize the background as K samples.\n"
     ]
    },
    {
     "name": "stdout",
     "output_type": "stream",
     "text": [
      "Model saved at inst/extdata/model/m_chat_rf/svm/model.joblib\n",
      "Results saved at inst/extdata/model/m_chat_rf/svm/train_prob.csv\n",
      "Results saved at inst/extdata/model/m_chat_rf/svm/validation_prob.csv\n",
      "Results saved at inst/extdata/model/m_chat_rf/svm/test_prob.csv\n"
     ]
    },
    {
     "name": "stderr",
     "output_type": "stream",
     "text": [
      "100%|███████████| 301/301 [10:45<00:00,  2.14s/it]"
     ]
    },
    {
     "name": "stdout",
     "output_type": "stream",
     "text": [
      "Results saved at inst/extdata/model/m_chat_rf/svm/shap_values.csv\n"
     ]
    },
    {
     "name": "stderr",
     "output_type": "stream",
     "text": [
      "\n"
     ]
    }
   ],
   "source": [
    "prefix = 'predmod_data/asd_m_chat_rf'\n",
    "model_name = 'SVM'\n",
    "model_dir = 'model/m_chat_rf/svm'\n",
    "\n",
    "train_and_estimate_sample_size(f'{prefix}_train', models_and_params[model_name], model_dir, seed = seed)\n",
    "custom_precision = make_scorer(precision_score, zero_division=0)\n",
    "train_and_save_model(f'{prefix}_train', models_and_params[model_name], model_dir, scoring=custom_precision, seed = seed)\n",
    "\n",
    "output_type = 'probability'\n",
    "load_and_predict(prefix, 'train', output_type, model_dir)\n",
    "load_and_predict(prefix, 'validation', output_type, model_dir)\n",
    "load_and_predict(prefix, 'test', output_type, model_dir)\n",
    "compute_shap_values(f'{prefix}_train', explainers[model_name], model_dir)"
   ]
  },
  {
   "cell_type": "markdown",
   "id": "71681e39-8ae9-4013-8b78-f581c97b3bb1",
   "metadata": {},
   "source": [
    "### k-Nearest Neighbor"
   ]
  },
  {
   "cell_type": "code",
   "execution_count": null,
   "id": "fdf7059a-a9e6-483e-9717-c939e6e6c396",
   "metadata": {},
   "outputs": [
    {
     "name": "stderr",
     "output_type": "stream",
     "text": [
      "Using 301 background data samples could cause slower run times. Consider using shap.sample(data, K) or shap.kmeans(data, K) to summarize the background as K samples.\n"
     ]
    },
    {
     "name": "stdout",
     "output_type": "stream",
     "text": [
      "Results saved at inst/extdata/model/m_chat_rf/knn/sample_size_estimation.csv\n",
      "Scaler saved at inst/extdata/model/m_chat_rf/knn/scaler.joblib\n",
      "Model saved at inst/extdata/model/m_chat_rf/knn/model.joblib\n",
      "Results saved at inst/extdata/model/m_chat_rf/knn/train_prob.csv\n",
      "Results saved at inst/extdata/model/m_chat_rf/knn/validation_prob.csv\n",
      "Results saved at inst/extdata/model/m_chat_rf/knn/test_prob.csv\n"
     ]
    },
    {
     "name": "stderr",
     "output_type": "stream",
     "text": [
      " 69%|███████▌   | 208/301 [14:16<06:44,  4.34s/it]"
     ]
    }
   ],
   "source": [
    "prefix = 'predmod_data/asd_m_chat_rf'\n",
    "model_name = 'KNN'\n",
    "model_dir = 'model/m_chat_rf/knn'\n",
    "\n",
    "train_and_estimate_sample_size(f'{prefix}_train', models_and_params[model_name], model_dir, seed = seed)\n",
    "custom_precision = make_scorer(precision_score, zero_division=0)\n",
    "train_and_save_model(f'{prefix}_train', models_and_params[model_name], model_dir, scoring=custom_precision, seed = seed)\n",
    "\n",
    "output_type = 'probability'\n",
    "load_and_predict(prefix, 'train', output_type, model_dir)\n",
    "load_and_predict(prefix, 'validation', output_type, model_dir)\n",
    "load_and_predict(prefix, 'test', output_type, model_dir)\n",
    "compute_shap_values(f'{prefix}_train', explainers[model_name], model_dir)"
   ]
  },
  {
   "cell_type": "markdown",
   "id": "44dba910-f79e-41de-9ef7-47f3d9e6ab81",
   "metadata": {},
   "source": [
    "### Decision Tree"
   ]
  },
  {
   "cell_type": "code",
   "execution_count": null,
   "id": "3d623eac-a4ca-4034-8043-7a80362ff70a",
   "metadata": {},
   "outputs": [],
   "source": [
    "prefix = 'predmod_data/asd_m_chat_rf'\n",
    "model_name = 'DecisionTree'\n",
    "model_dir = 'model/m_chat_rf/dt'\n",
    "\n",
    "train_and_estimate_sample_size(f'{prefix}_train', models_and_params[model_name], model_dir, seed = seed)\n",
    "custom_precision = make_scorer(precision_score, zero_division=0)\n",
    "train_and_save_model(f'{prefix}_train', models_and_params[model_name], model_dir, scoring=custom_precision, seed = seed)\n",
    "\n",
    "output_type = 'probability'\n",
    "load_and_predict(prefix, 'train', output_type, model_dir)\n",
    "load_and_predict(prefix, 'validation', output_type, model_dir)\n",
    "load_and_predict(prefix, 'test', output_type, model_dir)\n",
    "compute_shap_values(f'{prefix}_train', explainers[model_name], model_dir)"
   ]
  },
  {
   "cell_type": "markdown",
   "id": "f700d953-6986-449a-8eb5-9c052189d36d",
   "metadata": {},
   "source": [
    "### Random Forest"
   ]
  },
  {
   "cell_type": "code",
   "execution_count": null,
   "id": "28433a2e-c302-41aa-b7fe-6a1f44c62c6e",
   "metadata": {},
   "outputs": [],
   "source": [
    "prefix = 'predmod_data/asd_m_chat_rf'\n",
    "model_name = 'RandomForest'\n",
    "model_dir = 'model/m_chat_rf/rf'\n",
    "\n",
    "train_and_estimate_sample_size(f'{prefix}_train', models_and_params[model_name], model_dir, seed = seed)\n",
    "custom_precision = make_scorer(precision_score, zero_division=0)\n",
    "train_and_save_model(f'{prefix}_train', models_and_params[model_name], model_dir, scoring=custom_precision, seed = seed)\n",
    "\n",
    "output_type = 'probability'\n",
    "load_and_predict(prefix, 'train', output_type, model_dir)\n",
    "load_and_predict(prefix, 'validation', output_type, model_dir)\n",
    "load_and_predict(prefix, 'test', output_type, model_dir)\n",
    "compute_shap_values(f'{prefix}_train', explainers[model_name], model_dir)"
   ]
  },
  {
   "cell_type": "markdown",
   "id": "162cabc8-0dc5-430d-8d24-306ddb6b2ace",
   "metadata": {},
   "source": [
    "### Gradient Boosting Machine"
   ]
  },
  {
   "cell_type": "code",
   "execution_count": null,
   "id": "a97d14eb-5d39-4668-9023-ac75d6c35062",
   "metadata": {},
   "outputs": [],
   "source": [
    "prefix = 'predmod_data/asd_m_chat_rf'\n",
    "model_name = 'GradientBoosting'\n",
    "model_dir = 'model/m_chat_rf/gbm'\n",
    "\n",
    "train_and_estimate_sample_size(f'{prefix}_train', models_and_params[model_name], model_dir, seed = seed)\n",
    "custom_precision = make_scorer(precision_score, zero_division=0)\n",
    "train_and_save_model(f'{prefix}_train', models_and_params[model_name], model_dir, scoring=custom_precision, seed = seed)\n",
    "\n",
    "output_type = 'probability'\n",
    "load_and_predict(prefix, 'train', output_type, model_dir)\n",
    "load_and_predict(prefix, 'validation', output_type, model_dir)\n",
    "load_and_predict(prefix, 'test', output_type, model_dir)\n",
    "compute_shap_values(f'{prefix}_train', explainers[model_name], model_dir)"
   ]
  },
  {
   "cell_type": "markdown",
   "id": "90ef275b-315c-48f3-8802-f4815ae018e7",
   "metadata": {},
   "source": [
    "### Deep Neural Network"
   ]
  },
  {
   "cell_type": "code",
   "execution_count": null,
   "id": "7df9186f-e32d-4a1e-afed-ab38109d1e58",
   "metadata": {
    "scrolled": true
   },
   "outputs": [],
   "source": [
    "prefix = 'predmod_data/asd_m_chat_rf'\n",
    "model_name = 'DeepNeuralNetwork'\n",
    "model_dir = 'model/m_chat_rf/dnn'\n",
    "\n",
    "train_and_estimate_sample_size(f'{prefix}_train', models_and_params[model_name], model_dir, seed = seed)\n",
    "custom_precision = make_scorer(precision_score, zero_division=0)\n",
    "train_and_save_model(f'{prefix}_train', models_and_params[model_name], model_dir, scoring=custom_precision, seed = seed)\n",
    "\n",
    "output_type = 'probability'\n",
    "load_and_predict(prefix, 'train', output_type, model_dir)\n",
    "load_and_predict(prefix, 'validation', output_type, model_dir)\n",
    "load_and_predict(prefix, 'test', output_type, model_dir)\n",
    "compute_shap_values(f'{prefix}_train', explainers[model_name], model_dir)"
   ]
  },
  {
   "cell_type": "markdown",
   "id": "5afc13f1-f1b2-4f87-b512-ff5eadeb4c43",
   "metadata": {},
   "source": [
    "## Only BSID-III"
   ]
  },
  {
   "cell_type": "markdown",
   "id": "dbc3dab3-13d3-4333-82a1-78830f657b3c",
   "metadata": {},
   "source": [
    "### Ridge Regression"
   ]
  },
  {
   "cell_type": "code",
   "execution_count": 14,
   "id": "5e9b2e9b-2005-4848-a03e-6641edc5d059",
   "metadata": {
    "scrolled": true
   },
   "outputs": [
    {
     "name": "stdout",
     "output_type": "stream",
     "text": [
      "Results saved at inst/extdata/model/only_bsid_iii/rr/sample_size_estimation.csv\n",
      "Scaler saved at inst/extdata/model/only_bsid_iii/rr/scaler.joblib\n",
      "Model saved at inst/extdata/model/only_bsid_iii/rr/model.joblib\n",
      "Results saved at inst/extdata/model/only_bsid_iii/rr/train_prob.csv\n",
      "Results saved at inst/extdata/model/only_bsid_iii/rr/validation_prob.csv\n",
      "Results saved at inst/extdata/model/only_bsid_iii/rr/test_prob.csv\n",
      "Results saved at inst/extdata/model/only_bsid_iii/rr/shap_values.csv\n"
     ]
    }
   ],
   "source": [
    "prefix = 'predmod_data/asd_only_bsid_iii'\n",
    "model_name = 'LogisticRegression'\n",
    "model_dir = 'model/only_bsid_iii/rr'\n",
    "\n",
    "train_and_estimate_sample_size(f'{prefix}_train', models_and_params[model_name], model_dir, seed = seed)\n",
    "custom_precision = make_scorer(precision_score, zero_division=0)\n",
    "train_and_save_model(f'{prefix}_train', models_and_params[model_name], model_dir, scoring=custom_precision, seed = seed)\n",
    "\n",
    "output_type = 'probability'\n",
    "load_and_predict(prefix, 'train', output_type, model_dir)\n",
    "load_and_predict(prefix, 'validation', output_type, model_dir)\n",
    "load_and_predict(prefix, 'test', output_type, model_dir)\n",
    "compute_shap_values(f'{prefix}_train', explainers[model_name], model_dir)"
   ]
  },
  {
   "cell_type": "markdown",
   "id": "517de282-f9af-4cd8-8020-30b35bc7d608",
   "metadata": {},
   "source": [
    "### Naive Bayes"
   ]
  },
  {
   "cell_type": "code",
   "execution_count": 15,
   "id": "c837189d-71e2-49c8-8dcb-2a78a6260291",
   "metadata": {},
   "outputs": [
    {
     "name": "stdout",
     "output_type": "stream",
     "text": [
      "Results saved at inst/extdata/model/only_bsid_iii/nb/sample_size_estimation.csv\n",
      "Scaler saved at inst/extdata/model/only_bsid_iii/nb/scaler.joblib\n",
      "Model saved at inst/extdata/model/only_bsid_iii/nb/model.joblib\n",
      "Results saved at inst/extdata/model/only_bsid_iii/nb/train_prob.csv\n",
      "Results saved at inst/extdata/model/only_bsid_iii/nb/validation_prob.csv\n",
      "Results saved at inst/extdata/model/only_bsid_iii/nb/test_prob.csv\n"
     ]
    },
    {
     "name": "stderr",
     "output_type": "stream",
     "text": [
      "Using 301 background data samples could cause slower run times. Consider using shap.sample(data, K) or shap.kmeans(data, K) to summarize the background as K samples.\n",
      "100%|█████████████████████████| 301/301 [00:14<00:00, 21.41it/s]"
     ]
    },
    {
     "name": "stdout",
     "output_type": "stream",
     "text": [
      "Results saved at inst/extdata/model/only_bsid_iii/nb/shap_values.csv\n"
     ]
    },
    {
     "name": "stderr",
     "output_type": "stream",
     "text": [
      "\n"
     ]
    }
   ],
   "source": [
    "prefix = 'predmod_data/asd_only_bsid_iii'\n",
    "model_name = 'NaiveBayes'\n",
    "model_dir = 'model/only_bsid_iii/nb'\n",
    "\n",
    "train_and_estimate_sample_size(f'{prefix}_train', models_and_params[model_name], model_dir, seed = seed)\n",
    "custom_precision = make_scorer(precision_score, zero_division=0)\n",
    "train_and_save_model(f'{prefix}_train', models_and_params[model_name], model_dir, scoring=custom_precision, seed = seed)\n",
    "\n",
    "output_type = 'probability'\n",
    "load_and_predict(prefix, 'train', output_type, model_dir)\n",
    "load_and_predict(prefix, 'validation', output_type, model_dir)\n",
    "load_and_predict(prefix, 'test', output_type, model_dir)\n",
    "compute_shap_values(f'{prefix}_train', explainers[model_name], model_dir)"
   ]
  },
  {
   "cell_type": "markdown",
   "id": "d054a958-4f96-4d6b-b3cf-cc76735bb992",
   "metadata": {},
   "source": [
    "### Support Vector Machine"
   ]
  },
  {
   "cell_type": "code",
   "execution_count": 16,
   "id": "012ece24-4ca6-461a-b984-9ee8b84d9057",
   "metadata": {},
   "outputs": [
    {
     "name": "stdout",
     "output_type": "stream",
     "text": [
      "Results saved at inst/extdata/model/only_bsid_iii/svm/sample_size_estimation.csv\n",
      "Scaler saved at inst/extdata/model/only_bsid_iii/svm/scaler.joblib\n"
     ]
    },
    {
     "name": "stderr",
     "output_type": "stream",
     "text": [
      "Using 301 background data samples could cause slower run times. Consider using shap.sample(data, K) or shap.kmeans(data, K) to summarize the background as K samples.\n"
     ]
    },
    {
     "name": "stdout",
     "output_type": "stream",
     "text": [
      "Model saved at inst/extdata/model/only_bsid_iii/svm/model.joblib\n",
      "Results saved at inst/extdata/model/only_bsid_iii/svm/train_prob.csv\n",
      "Results saved at inst/extdata/model/only_bsid_iii/svm/validation_prob.csv\n",
      "Results saved at inst/extdata/model/only_bsid_iii/svm/test_prob.csv\n"
     ]
    },
    {
     "name": "stderr",
     "output_type": "stream",
     "text": [
      "100%|█████████████████████████| 301/301 [00:16<00:00, 18.13it/s]"
     ]
    },
    {
     "name": "stdout",
     "output_type": "stream",
     "text": [
      "Results saved at inst/extdata/model/only_bsid_iii/svm/shap_values.csv\n"
     ]
    },
    {
     "name": "stderr",
     "output_type": "stream",
     "text": [
      "\n"
     ]
    }
   ],
   "source": [
    "prefix = 'predmod_data/asd_only_bsid_iii'\n",
    "model_name = 'SVM'\n",
    "model_dir = 'model/only_bsid_iii/svm'\n",
    "\n",
    "train_and_estimate_sample_size(f'{prefix}_train', models_and_params[model_name], model_dir, seed = seed)\n",
    "custom_precision = make_scorer(precision_score, zero_division=0)\n",
    "train_and_save_model(f'{prefix}_train', models_and_params[model_name], model_dir, scoring=custom_precision, seed = seed)\n",
    "\n",
    "output_type = 'probability'\n",
    "load_and_predict(prefix, 'train', output_type, model_dir)\n",
    "load_and_predict(prefix, 'validation', output_type, model_dir)\n",
    "load_and_predict(prefix, 'test', output_type, model_dir)\n",
    "compute_shap_values(f'{prefix}_train', explainers[model_name], model_dir)"
   ]
  },
  {
   "cell_type": "markdown",
   "id": "5e09d47c-dabb-4c75-b098-c37f8e0f337b",
   "metadata": {},
   "source": [
    "### k-Nearest Neighbor"
   ]
  },
  {
   "cell_type": "code",
   "execution_count": 17,
   "id": "2967f451-8f75-4fcf-b8c8-1d2c5759fffd",
   "metadata": {},
   "outputs": [
    {
     "name": "stderr",
     "output_type": "stream",
     "text": [
      "Using 301 background data samples could cause slower run times. Consider using shap.sample(data, K) or shap.kmeans(data, K) to summarize the background as K samples.\n"
     ]
    },
    {
     "name": "stdout",
     "output_type": "stream",
     "text": [
      "Results saved at inst/extdata/model/only_bsid_iii/knn/sample_size_estimation.csv\n",
      "Scaler saved at inst/extdata/model/only_bsid_iii/knn/scaler.joblib\n",
      "Model saved at inst/extdata/model/only_bsid_iii/knn/model.joblib\n",
      "Results saved at inst/extdata/model/only_bsid_iii/knn/train_prob.csv\n",
      "Results saved at inst/extdata/model/only_bsid_iii/knn/validation_prob.csv\n",
      "Results saved at inst/extdata/model/only_bsid_iii/knn/test_prob.csv\n"
     ]
    },
    {
     "name": "stderr",
     "output_type": "stream",
     "text": [
      "100%|█████████████████████████| 301/301 [00:24<00:00, 12.40it/s]"
     ]
    },
    {
     "name": "stdout",
     "output_type": "stream",
     "text": [
      "Results saved at inst/extdata/model/only_bsid_iii/knn/shap_values.csv\n"
     ]
    },
    {
     "name": "stderr",
     "output_type": "stream",
     "text": [
      "\n"
     ]
    }
   ],
   "source": [
    "prefix = 'predmod_data/asd_only_bsid_iii'\n",
    "model_name = 'KNN'\n",
    "model_dir = 'model/only_bsid_iii/knn'\n",
    "\n",
    "train_and_estimate_sample_size(f'{prefix}_train', models_and_params[model_name], model_dir, seed = seed)\n",
    "custom_precision = make_scorer(precision_score, zero_division=0)\n",
    "train_and_save_model(f'{prefix}_train', models_and_params[model_name], model_dir, scoring=custom_precision, seed = seed)\n",
    "\n",
    "output_type = 'probability'\n",
    "load_and_predict(prefix, 'train', output_type, model_dir)\n",
    "load_and_predict(prefix, 'validation', output_type, model_dir)\n",
    "load_and_predict(prefix, 'test', output_type, model_dir)\n",
    "compute_shap_values(f'{prefix}_train', explainers[model_name], model_dir)"
   ]
  },
  {
   "cell_type": "markdown",
   "id": "58ad1e57-36c9-48cf-852f-43642865b0cc",
   "metadata": {},
   "source": [
    "### Decision Tree"
   ]
  },
  {
   "cell_type": "code",
   "execution_count": 18,
   "id": "6a5e9e70-be13-46b1-bda5-c667857ef29a",
   "metadata": {},
   "outputs": [
    {
     "name": "stdout",
     "output_type": "stream",
     "text": [
      "Results saved at inst/extdata/model/only_bsid_iii/dt/sample_size_estimation.csv\n",
      "Scaler saved at inst/extdata/model/only_bsid_iii/dt/scaler.joblib\n",
      "Model saved at inst/extdata/model/only_bsid_iii/dt/model.joblib\n",
      "Results saved at inst/extdata/model/only_bsid_iii/dt/train_prob.csv\n",
      "Results saved at inst/extdata/model/only_bsid_iii/dt/validation_prob.csv\n",
      "Results saved at inst/extdata/model/only_bsid_iii/dt/test_prob.csv\n",
      "Results saved at inst/extdata/model/only_bsid_iii/dt/shap_values.csv\n"
     ]
    }
   ],
   "source": [
    "prefix = 'predmod_data/asd_only_bsid_iii'\n",
    "model_name = 'DecisionTree'\n",
    "model_dir = 'model/only_bsid_iii/dt'\n",
    "\n",
    "train_and_estimate_sample_size(f'{prefix}_train', models_and_params[model_name], model_dir, seed = seed)\n",
    "custom_precision = make_scorer(precision_score, zero_division=0)\n",
    "train_and_save_model(f'{prefix}_train', models_and_params[model_name], model_dir, scoring=custom_precision, seed = seed)\n",
    "\n",
    "output_type = 'probability'\n",
    "load_and_predict(prefix, 'train', output_type, model_dir)\n",
    "load_and_predict(prefix, 'validation', output_type, model_dir)\n",
    "load_and_predict(prefix, 'test', output_type, model_dir)\n",
    "compute_shap_values(f'{prefix}_train', explainers[model_name], model_dir)"
   ]
  },
  {
   "cell_type": "markdown",
   "id": "f890e4cb-6548-4d6d-af8a-eb9d373b3972",
   "metadata": {},
   "source": [
    "### Random Forest"
   ]
  },
  {
   "cell_type": "code",
   "execution_count": 19,
   "id": "f94fef07-621f-494c-9e46-cbd53ca298f7",
   "metadata": {},
   "outputs": [
    {
     "name": "stdout",
     "output_type": "stream",
     "text": [
      "Results saved at inst/extdata/model/only_bsid_iii/rf/sample_size_estimation.csv\n",
      "Scaler saved at inst/extdata/model/only_bsid_iii/rf/scaler.joblib\n",
      "Model saved at inst/extdata/model/only_bsid_iii/rf/model.joblib\n",
      "Results saved at inst/extdata/model/only_bsid_iii/rf/train_prob.csv\n",
      "Results saved at inst/extdata/model/only_bsid_iii/rf/validation_prob.csv\n",
      "Results saved at inst/extdata/model/only_bsid_iii/rf/test_prob.csv\n",
      "Results saved at inst/extdata/model/only_bsid_iii/rf/shap_values.csv\n"
     ]
    }
   ],
   "source": [
    "prefix = 'predmod_data/asd_only_bsid_iii'\n",
    "model_name = 'RandomForest'\n",
    "model_dir = 'model/only_bsid_iii/rf'\n",
    "\n",
    "train_and_estimate_sample_size(f'{prefix}_train', models_and_params[model_name], model_dir, seed = seed)\n",
    "custom_precision = make_scorer(precision_score, zero_division=0)\n",
    "train_and_save_model(f'{prefix}_train', models_and_params[model_name], model_dir, scoring=custom_precision, seed = seed)\n",
    "\n",
    "output_type = 'probability'\n",
    "load_and_predict(prefix, 'train', output_type, model_dir)\n",
    "load_and_predict(prefix, 'validation', output_type, model_dir)\n",
    "load_and_predict(prefix, 'test', output_type, model_dir)\n",
    "compute_shap_values(f'{prefix}_train', explainers[model_name], model_dir)"
   ]
  },
  {
   "cell_type": "markdown",
   "id": "6136c57f-c7d7-4f94-adc8-5bf403a74c39",
   "metadata": {},
   "source": [
    "### Gradient Boosting Machine"
   ]
  },
  {
   "cell_type": "code",
   "execution_count": 20,
   "id": "f9cdf1db-5839-413f-b8f2-06df754aff15",
   "metadata": {},
   "outputs": [
    {
     "name": "stdout",
     "output_type": "stream",
     "text": [
      "Results saved at inst/extdata/model/only_bsid_iii/gbm/sample_size_estimation.csv\n",
      "Scaler saved at inst/extdata/model/only_bsid_iii/gbm/scaler.joblib\n",
      "Model saved at inst/extdata/model/only_bsid_iii/gbm/model.joblib\n",
      "Results saved at inst/extdata/model/only_bsid_iii/gbm/train_prob.csv\n",
      "Results saved at inst/extdata/model/only_bsid_iii/gbm/validation_prob.csv\n",
      "Results saved at inst/extdata/model/only_bsid_iii/gbm/test_prob.csv\n",
      "Results saved at inst/extdata/model/only_bsid_iii/gbm/shap_values.csv\n"
     ]
    }
   ],
   "source": [
    "prefix = 'predmod_data/asd_only_bsid_iii'\n",
    "model_name = 'GradientBoosting'\n",
    "model_dir = 'model/only_bsid_iii/gbm'\n",
    "\n",
    "train_and_estimate_sample_size(f'{prefix}_train', models_and_params[model_name], model_dir, seed = seed)\n",
    "custom_precision = make_scorer(precision_score, zero_division=0)\n",
    "train_and_save_model(f'{prefix}_train', models_and_params[model_name], model_dir, scoring=custom_precision, seed = seed)\n",
    "\n",
    "output_type = 'probability'\n",
    "load_and_predict(prefix, 'train', output_type, model_dir)\n",
    "load_and_predict(prefix, 'validation', output_type, model_dir)\n",
    "load_and_predict(prefix, 'test', output_type, model_dir)\n",
    "compute_shap_values(f'{prefix}_train', explainers[model_name], model_dir)"
   ]
  },
  {
   "cell_type": "markdown",
   "id": "10173ef4-143a-434e-a824-9b638cfc9967",
   "metadata": {},
   "source": [
    "### Deep Neural Network"
   ]
  },
  {
   "cell_type": "code",
   "execution_count": 21,
   "id": "c98e1df6-b485-4f93-bfbb-26f1915362bd",
   "metadata": {},
   "outputs": [
    {
     "name": "stdout",
     "output_type": "stream",
     "text": [
      "Results saved at inst/extdata/model/only_bsid_iii/dnn/sample_size_estimation.csv\n",
      "Scaler saved at inst/extdata/model/only_bsid_iii/dnn/scaler.joblib\n"
     ]
    },
    {
     "name": "stderr",
     "output_type": "stream",
     "text": [
      "Using 301 background data samples could cause slower run times. Consider using shap.sample(data, K) or shap.kmeans(data, K) to summarize the background as K samples.\n"
     ]
    },
    {
     "name": "stdout",
     "output_type": "stream",
     "text": [
      "Model saved at inst/extdata/model/only_bsid_iii/dnn/model.joblib\n",
      "Results saved at inst/extdata/model/only_bsid_iii/dnn/train_prob.csv\n",
      "Results saved at inst/extdata/model/only_bsid_iii/dnn/validation_prob.csv\n",
      "Results saved at inst/extdata/model/only_bsid_iii/dnn/test_prob.csv\n"
     ]
    },
    {
     "name": "stderr",
     "output_type": "stream",
     "text": [
      "100%|█████████████████████████| 301/301 [00:24<00:00, 12.47it/s]"
     ]
    },
    {
     "name": "stdout",
     "output_type": "stream",
     "text": [
      "Results saved at inst/extdata/model/only_bsid_iii/dnn/shap_values.csv\n"
     ]
    },
    {
     "name": "stderr",
     "output_type": "stream",
     "text": [
      "\n"
     ]
    }
   ],
   "source": [
    "prefix = 'predmod_data/asd_only_bsid_iii'\n",
    "model_name = 'DeepNeuralNetwork'\n",
    "model_dir = 'model/only_bsid_iii/dnn'\n",
    "\n",
    "train_and_estimate_sample_size(f'{prefix}_train', models_and_params[model_name], model_dir, seed = seed)\n",
    "custom_precision = make_scorer(precision_score, zero_division=0)\n",
    "train_and_save_model(f'{prefix}_train', models_and_params[model_name], model_dir, scoring=custom_precision, seed = seed)\n",
    "\n",
    "output_type = 'probability'\n",
    "load_and_predict(prefix, 'train', output_type, model_dir)\n",
    "load_and_predict(prefix, 'validation', output_type, model_dir)\n",
    "load_and_predict(prefix, 'test', output_type, model_dir)\n",
    "compute_shap_values(f'{prefix}_train', explainers[model_name], model_dir)"
   ]
  },
  {
   "cell_type": "markdown",
   "id": "b2cdf6fd-786c-4212-87ac-b41232a6936c",
   "metadata": {},
   "source": [
    "# Model deployment"
   ]
  },
  {
   "cell_type": "code",
   "execution_count": 6,
   "id": "7ac52951-77f0-426c-8635-7f18c042c749",
   "metadata": {},
   "outputs": [
    {
     "name": "stdout",
     "output_type": "stream",
     "text": [
      "File copied successfully from: inst/extdata/rf/scaler.joblib to: inst/extdata/best_model/scaler.joblib\n",
      "File copied successfully from: inst/extdata/rf/model.joblib to: inst/extdata/best_model/model.joblib\n",
      "Results saved at inst/extdata/best_model/prob.csv\n",
      "Results saved at inst/extdata/best_model/shap_values.csv\n"
     ]
    }
   ],
   "source": [
    "import shutil\n",
    "import os\n",
    "\n",
    "best_model = 'rf'\n",
    "model_name = 'RandomForest'\n",
    "\n",
    "prefix = 'depmod_data'\n",
    "model_dir = 'best_model'\n",
    "\n",
    "# Define the source and destination file paths\n",
    "source_path = f'inst/extdata/{best_model}/scaler.joblib'\n",
    "source_path2 = f'inst/extdata/{best_model}/model.joblib'\n",
    "destination_path = f'inst/extdata/{model_dir}/scaler.joblib'\n",
    "destination_path2 = f'inst/extdata/{model_dir}/model.joblib'\n",
    "\n",
    "# Ensure the destination directory exists, create if it doesn't\n",
    "os.makedirs(os.path.dirname(destination_path), exist_ok=True)\n",
    "\n",
    "# Copy the file\n",
    "shutil.copy(source_path, destination_path)\n",
    "print(\"File copied successfully from:\", source_path, \"to:\", destination_path)\n",
    "\n",
    "shutil.copy(source_path2, destination_path2)\n",
    "print(\"File copied successfully from:\", source_path2, \"to:\", destination_path2)\n",
    "\n",
    "output_type = 'probability'\n",
    "load_and_predict(prefix, output_type, model_dir)\n",
    "compute_shap_values(prefix, explainers[model_name], model_dir)"
   ]
  }
 ],
 "metadata": {
  "kernelspec": {
   "display_name": "Python 3 (ipykernel)",
   "language": "python",
   "name": "python3"
  },
  "language_info": {
   "codemirror_mode": {
    "name": "ipython",
    "version": 3
   },
   "file_extension": ".py",
   "mimetype": "text/x-python",
   "name": "python",
   "nbconvert_exporter": "python",
   "pygments_lexer": "ipython3",
   "version": "3.12.4"
  }
 },
 "nbformat": 4,
 "nbformat_minor": 5
}
